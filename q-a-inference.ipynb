{
 "cells": [
  {
   "cell_type": "code",
   "execution_count": 1,
   "id": "9de50a7f",
   "metadata": {
    "execution": {
     "iopub.execute_input": "2022-03-16T17:18:34.639945Z",
     "iopub.status.busy": "2022-03-16T17:18:34.638811Z",
     "iopub.status.idle": "2022-03-16T17:18:46.750826Z",
     "shell.execute_reply": "2022-03-16T17:18:46.750130Z",
     "shell.execute_reply.started": "2022-03-14T18:36:50.498195Z"
    },
    "papermill": {
     "duration": 12.135016,
     "end_time": "2022-03-16T17:18:46.750991",
     "exception": false,
     "start_time": "2022-03-16T17:18:34.615975",
     "status": "completed"
    },
    "tags": []
   },
   "outputs": [],
   "source": [
    "import os\n",
    "import pandas as pd, numpy as np\n",
    "import matplotlib.pyplot as plt\n",
    "os.environ['TF_CPP_MIN_LOG_LEVEL'] = '3'\n",
    "from transformers import *\n",
    "from datasets import get_dataset_config_names, load_dataset\n",
    "import tqdm.notebook as tqdm"
   ]
  },
  {
   "cell_type": "markdown",
   "id": "f41fd704",
   "metadata": {
    "papermill": {
     "duration": 0.017245,
     "end_time": "2022-03-16T17:18:46.788804",
     "exception": false,
     "start_time": "2022-03-16T17:18:46.771559",
     "status": "completed"
    },
    "tags": []
   },
   "source": [
    "# Load Test"
   ]
  },
  {
   "cell_type": "code",
   "execution_count": 2,
   "id": "6acafb91",
   "metadata": {
    "execution": {
     "iopub.execute_input": "2022-03-16T17:18:46.827524Z",
     "iopub.status.busy": "2022-03-16T17:18:46.826769Z",
     "iopub.status.idle": "2022-03-16T17:18:46.870629Z",
     "shell.execute_reply": "2022-03-16T17:18:46.871085Z",
     "shell.execute_reply.started": "2022-03-14T18:37:03.141482Z"
    },
    "papermill": {
     "duration": 0.064785,
     "end_time": "2022-03-16T17:18:46.871268",
     "exception": false,
     "start_time": "2022-03-16T17:18:46.806483",
     "status": "completed"
    },
    "tags": []
   },
   "outputs": [
    {
     "data": {
      "text/html": [
       "<div>\n",
       "<style scoped>\n",
       "    .dataframe tbody tr th:only-of-type {\n",
       "        vertical-align: middle;\n",
       "    }\n",
       "\n",
       "    .dataframe tbody tr th {\n",
       "        vertical-align: top;\n",
       "    }\n",
       "\n",
       "    .dataframe thead th {\n",
       "        text-align: right;\n",
       "    }\n",
       "</style>\n",
       "<table border=\"1\" class=\"dataframe\">\n",
       "  <thead>\n",
       "    <tr style=\"text-align: right;\">\n",
       "      <th></th>\n",
       "      <th>id</th>\n",
       "      <th>text</th>\n",
       "    </tr>\n",
       "  </thead>\n",
       "  <tbody>\n",
       "    <tr>\n",
       "      <th>0</th>\n",
       "      <td>0FB0700DAF44</td>\n",
       "      <td>During a group project, have you ever asked a ...</td>\n",
       "    </tr>\n",
       "    <tr>\n",
       "      <th>1</th>\n",
       "      <td>D72CB1C11673</td>\n",
       "      <td>Making choices in life can be very difficult. ...</td>\n",
       "    </tr>\n",
       "    <tr>\n",
       "      <th>2</th>\n",
       "      <td>18409261F5C2</td>\n",
       "      <td>80% of Americans believe seeking multiple opin...</td>\n",
       "    </tr>\n",
       "    <tr>\n",
       "      <th>3</th>\n",
       "      <td>DF920E0A7337</td>\n",
       "      <td>Have you ever asked more than one person for h...</td>\n",
       "    </tr>\n",
       "    <tr>\n",
       "      <th>4</th>\n",
       "      <td>D46BCB48440A</td>\n",
       "      <td>When people ask for advice,they sometimes talk...</td>\n",
       "    </tr>\n",
       "  </tbody>\n",
       "</table>\n",
       "</div>"
      ],
      "text/plain": [
       "             id                                               text\n",
       "0  0FB0700DAF44  During a group project, have you ever asked a ...\n",
       "1  D72CB1C11673  Making choices in life can be very difficult. ...\n",
       "2  18409261F5C2  80% of Americans believe seeking multiple opin...\n",
       "3  DF920E0A7337  Have you ever asked more than one person for h...\n",
       "4  D46BCB48440A  When people ask for advice,they sometimes talk..."
      ]
     },
     "execution_count": 2,
     "metadata": {},
     "output_type": "execute_result"
    }
   ],
   "source": [
    "# https://www.kaggle.com/raghavendrakotala/fine-tunned-on-roberta-base-as-ner-problem-0-533\n",
    "test_names, test = [], []\n",
    "for f in list(os.listdir('../input/feedback-prize-2021/test')):\n",
    "    test_names.append(f.replace('.txt', ''))\n",
    "    test.append(open('../input/feedback-prize-2021/test/' + f, 'r').read())\n",
    "test = pd.DataFrame({'id': test_names, 'text': test})\n",
    "test.head()"
   ]
  },
  {
   "cell_type": "code",
   "execution_count": 3,
   "id": "48f66c08",
   "metadata": {
    "execution": {
     "iopub.execute_input": "2022-03-16T17:18:46.911529Z",
     "iopub.status.busy": "2022-03-16T17:18:46.910879Z",
     "iopub.status.idle": "2022-03-16T17:18:46.914791Z",
     "shell.execute_reply": "2022-03-16T17:18:46.915282Z",
     "shell.execute_reply.started": "2022-03-14T18:37:03.193719Z"
    },
    "papermill": {
     "duration": 0.0256,
     "end_time": "2022-03-16T17:18:46.915476",
     "exception": false,
     "start_time": "2022-03-16T17:18:46.889876",
     "status": "completed"
    },
    "tags": []
   },
   "outputs": [],
   "source": [
    "test.columns = [\"id\", \"context\"]"
   ]
  },
  {
   "cell_type": "code",
   "execution_count": 4,
   "id": "ae3d2f62",
   "metadata": {
    "execution": {
     "iopub.execute_input": "2022-03-16T17:18:46.955840Z",
     "iopub.status.busy": "2022-03-16T17:18:46.954938Z",
     "iopub.status.idle": "2022-03-16T17:18:46.958157Z",
     "shell.execute_reply": "2022-03-16T17:18:46.958666Z",
     "shell.execute_reply.started": "2022-03-14T18:37:03.199313Z"
    },
    "papermill": {
     "duration": 0.025245,
     "end_time": "2022-03-16T17:18:46.958837",
     "exception": false,
     "start_time": "2022-03-16T17:18:46.933592",
     "status": "completed"
    },
    "tags": []
   },
   "outputs": [],
   "source": [
    "labels = ['Lead', 'Position', 'Evidence', 'Claim', 'Concluding Statement',\n",
    "             'Counterclaim', 'Rebuttal']"
   ]
  },
  {
   "cell_type": "code",
   "execution_count": 5,
   "id": "431c0ef6",
   "metadata": {
    "execution": {
     "iopub.execute_input": "2022-03-16T17:18:46.998285Z",
     "iopub.status.busy": "2022-03-16T17:18:46.997662Z",
     "iopub.status.idle": "2022-03-16T17:18:47.008144Z",
     "shell.execute_reply": "2022-03-16T17:18:47.008650Z",
     "shell.execute_reply.started": "2022-03-14T18:37:03.216187Z"
    },
    "papermill": {
     "duration": 0.031668,
     "end_time": "2022-03-16T17:18:47.008824",
     "exception": false,
     "start_time": "2022-03-16T17:18:46.977156",
     "status": "completed"
    },
    "tags": []
   },
   "outputs": [],
   "source": [
    "test['question'] = [labels for row in range(test.shape[0])]"
   ]
  },
  {
   "cell_type": "code",
   "execution_count": 6,
   "id": "54443d76",
   "metadata": {
    "execution": {
     "iopub.execute_input": "2022-03-16T17:18:47.048438Z",
     "iopub.status.busy": "2022-03-16T17:18:47.047394Z",
     "iopub.status.idle": "2022-03-16T17:18:47.066989Z",
     "shell.execute_reply": "2022-03-16T17:18:47.066187Z",
     "shell.execute_reply.started": "2022-03-14T18:37:03.240249Z"
    },
    "papermill": {
     "duration": 0.040329,
     "end_time": "2022-03-16T17:18:47.067144",
     "exception": false,
     "start_time": "2022-03-16T17:18:47.026815",
     "status": "completed"
    },
    "tags": []
   },
   "outputs": [],
   "source": [
    "test = test.explode('question')"
   ]
  },
  {
   "cell_type": "code",
   "execution_count": 7,
   "id": "4b25ee06",
   "metadata": {
    "execution": {
     "iopub.execute_input": "2022-03-16T17:18:47.109807Z",
     "iopub.status.busy": "2022-03-16T17:18:47.109131Z",
     "iopub.status.idle": "2022-03-16T17:18:47.113001Z",
     "shell.execute_reply": "2022-03-16T17:18:47.112464Z",
     "shell.execute_reply.started": "2022-03-14T18:37:03.27331Z"
    },
    "papermill": {
     "duration": 0.027083,
     "end_time": "2022-03-16T17:18:47.113141",
     "exception": false,
     "start_time": "2022-03-16T17:18:47.086058",
     "status": "completed"
    },
    "tags": []
   },
   "outputs": [
    {
     "name": "stdout",
     "output_type": "stream",
     "text": [
      "There are 5 train texts.\n"
     ]
    }
   ],
   "source": [
    "IDS = test.id.unique()\n",
    "print('There are',len(IDS),'train texts.')"
   ]
  },
  {
   "cell_type": "code",
   "execution_count": 8,
   "id": "82f80edb",
   "metadata": {
    "execution": {
     "iopub.execute_input": "2022-03-16T17:18:47.155131Z",
     "iopub.status.busy": "2022-03-16T17:18:47.154443Z",
     "iopub.status.idle": "2022-03-16T17:18:47.244929Z",
     "shell.execute_reply": "2022-03-16T17:18:47.245474Z",
     "shell.execute_reply.started": "2022-03-14T18:37:03.281877Z"
    },
    "papermill": {
     "duration": 0.114091,
     "end_time": "2022-03-16T17:18:47.245661",
     "exception": false,
     "start_time": "2022-03-16T17:18:47.131570",
     "status": "completed"
    },
    "tags": []
   },
   "outputs": [],
   "source": [
    "#model_ckpt = \"distilbert-base-cased-distilled-squad\"\n",
    "model_checkpoint = \"../input/q-a-pytorch/model.h5\"\n",
    "# model_checkpoint = \"distilbert-base-cased-distilled-squad\"\n",
    "config_model = \"../input/q-a-pytorch/model.h5/config.json\"\n",
    "tokenizer = AutoTokenizer.from_pretrained(model_checkpoint)\n",
    "\n",
    "target_map = {'Lead':0, 'Position':1, 'Evidence':2, 'Claim':3, 'Concluding Statement':4,\n",
    "             'Counterclaim':5, 'Rebuttal':6}"
   ]
  },
  {
   "cell_type": "code",
   "execution_count": 9,
   "id": "02ca6b14",
   "metadata": {
    "execution": {
     "iopub.execute_input": "2022-03-16T17:18:47.286366Z",
     "iopub.status.busy": "2022-03-16T17:18:47.285723Z",
     "iopub.status.idle": "2022-03-16T17:18:47.288975Z",
     "shell.execute_reply": "2022-03-16T17:18:47.289474Z",
     "shell.execute_reply.started": "2022-03-14T18:37:03.36801Z"
    },
    "papermill": {
     "duration": 0.025499,
     "end_time": "2022-03-16T17:18:47.289646",
     "exception": false,
     "start_time": "2022-03-16T17:18:47.264147",
     "status": "completed"
    },
    "tags": []
   },
   "outputs": [],
   "source": [
    "# os.mkdir('model')\n",
    "\n",
    "# tokenizer = AutoTokenizer.from_pretrained(model_checkpoint, add_prefix_space=True)\n",
    "# tokenizer.save_pretrained('model')\n",
    "\n",
    "# #     config_model = AutoConfig.from_pretrained(model_checkpoint) \n",
    "# #     config_model.num_labels = 15\n",
    "# #     config_model.save_pretrained('model')\n",
    "\n",
    "# backbone = AutoModelForQuestionAnswering.from_pretrained(model_checkpoint)\n",
    "# backbone.save_pretrained('model')"
   ]
  },
  {
   "cell_type": "code",
   "execution_count": 10,
   "id": "b0ca4fce",
   "metadata": {
    "execution": {
     "iopub.execute_input": "2022-03-16T17:18:47.329295Z",
     "iopub.status.busy": "2022-03-16T17:18:47.328666Z",
     "iopub.status.idle": "2022-03-16T17:18:47.331745Z",
     "shell.execute_reply": "2022-03-16T17:18:47.332208Z",
     "shell.execute_reply.started": "2022-03-14T18:37:03.372508Z"
    },
    "papermill": {
     "duration": 0.024476,
     "end_time": "2022-03-16T17:18:47.332423",
     "exception": false,
     "start_time": "2022-03-16T17:18:47.307947",
     "status": "completed"
    },
    "tags": []
   },
   "outputs": [],
   "source": [
    "max_length = tokenizer.model_max_length\n",
    "stride = 64"
   ]
  },
  {
   "cell_type": "code",
   "execution_count": 11,
   "id": "1c4454c3",
   "metadata": {
    "execution": {
     "iopub.execute_input": "2022-03-16T17:18:47.372766Z",
     "iopub.status.busy": "2022-03-16T17:18:47.372098Z",
     "iopub.status.idle": "2022-03-16T17:18:47.379768Z",
     "shell.execute_reply": "2022-03-16T17:18:47.378902Z",
     "shell.execute_reply.started": "2022-03-14T18:37:03.384785Z"
    },
    "papermill": {
     "duration": 0.029227,
     "end_time": "2022-03-16T17:18:47.379948",
     "exception": false,
     "start_time": "2022-03-16T17:18:47.350721",
     "status": "completed"
    },
    "tags": []
   },
   "outputs": [],
   "source": [
    "def preprocess_validation_examples(examples):\n",
    "    #strip removes leading and trailing whitespaces\n",
    "    questions = [q.strip() for q in examples[\"question\"]]\n",
    "    inputs = tokenizer(\n",
    "        questions,\n",
    "        examples[\"context\"],\n",
    "        max_length=max_length,\n",
    "        truncation=\"only_second\",\n",
    "        stride=stride,\n",
    "        return_overflowing_tokens=True,\n",
    "        return_offsets_mapping=True,\n",
    "        padding=\"max_length\",\n",
    "    )\n",
    "\n",
    "    sample_map = inputs.pop(\"overflow_to_sample_mapping\")\n",
    "    offset_mapping = inputs.pop(\"offset_mapping\")\n",
    "    example_ids = []\n",
    "\n",
    "    for i in range(len(inputs[\"input_ids\"])):\n",
    "        sample_idx = sample_map[i]\n",
    "        example_ids.append(examples[\"id\"][sample_idx])\n",
    "\n",
    "        sequence_ids = inputs.sequence_ids(i)\n",
    "#         offset = inputs[\"offset_mapping\"][i]\n",
    "#         inputs[\"offset_mapping\"][i] = [\n",
    "#             o if sequence_ids[k] == 1 else None for k, o in enumerate(offset)\n",
    "#         ]\n",
    "\n",
    "    inputs[\"example_id\"] = example_ids\n",
    "    \n",
    "    return inputs"
   ]
  },
  {
   "cell_type": "code",
   "execution_count": 12,
   "id": "f22a2617",
   "metadata": {
    "execution": {
     "iopub.execute_input": "2022-03-16T17:18:47.423107Z",
     "iopub.status.busy": "2022-03-16T17:18:47.421877Z",
     "iopub.status.idle": "2022-03-16T17:18:47.457424Z",
     "shell.execute_reply": "2022-03-16T17:18:47.456699Z",
     "shell.execute_reply.started": "2022-03-14T18:37:03.398461Z"
    },
    "papermill": {
     "duration": 0.059145,
     "end_time": "2022-03-16T17:18:47.457748",
     "exception": false,
     "start_time": "2022-03-16T17:18:47.398603",
     "status": "completed"
    },
    "tags": []
   },
   "outputs": [],
   "source": [
    "from datasets import Dataset\n",
    "dataset = Dataset.from_pandas(test)"
   ]
  },
  {
   "cell_type": "code",
   "execution_count": 13,
   "id": "966d487d",
   "metadata": {
    "execution": {
     "iopub.execute_input": "2022-03-16T17:18:47.500023Z",
     "iopub.status.busy": "2022-03-16T17:18:47.499326Z",
     "iopub.status.idle": "2022-03-16T17:18:47.503476Z",
     "shell.execute_reply": "2022-03-16T17:18:47.502934Z",
     "shell.execute_reply.started": "2022-03-14T18:37:03.440678Z"
    },
    "papermill": {
     "duration": 0.027184,
     "end_time": "2022-03-16T17:18:47.503633",
     "exception": false,
     "start_time": "2022-03-16T17:18:47.476449",
     "status": "completed"
    },
    "tags": []
   },
   "outputs": [
    {
     "data": {
      "text/plain": [
       "['id', 'context', 'question', '__index_level_0__']"
      ]
     },
     "execution_count": 13,
     "metadata": {},
     "output_type": "execute_result"
    }
   ],
   "source": [
    "dataset.column_names"
   ]
  },
  {
   "cell_type": "code",
   "execution_count": 14,
   "id": "d1f657a2",
   "metadata": {
    "execution": {
     "iopub.execute_input": "2022-03-16T17:18:47.559498Z",
     "iopub.status.busy": "2022-03-16T17:18:47.558848Z",
     "iopub.status.idle": "2022-03-16T17:18:47.665522Z",
     "shell.execute_reply": "2022-03-16T17:18:47.666028Z",
     "shell.execute_reply.started": "2022-03-14T18:37:03.449361Z"
    },
    "papermill": {
     "duration": 0.142461,
     "end_time": "2022-03-16T17:18:47.666198",
     "exception": false,
     "start_time": "2022-03-16T17:18:47.523737",
     "status": "completed"
    },
    "tags": []
   },
   "outputs": [
    {
     "data": {
      "application/vnd.jupyter.widget-view+json": {
       "model_id": "517fbbd6863f450b8e2a5a8d5e613660",
       "version_major": 2,
       "version_minor": 0
      },
      "text/plain": [
       "  0%|          | 0/1 [00:00<?, ?ba/s]"
      ]
     },
     "metadata": {},
     "output_type": "display_data"
    },
    {
     "data": {
      "text/plain": [
       "70"
      ]
     },
     "execution_count": 14,
     "metadata": {},
     "output_type": "execute_result"
    }
   ],
   "source": [
    "validation_dataset = dataset.map(\n",
    "    preprocess_validation_examples,\n",
    "    batched=True,\n",
    "    remove_columns=dataset.column_names,\n",
    ")\n",
    "len(validation_dataset)"
   ]
  },
  {
   "cell_type": "markdown",
   "id": "21171ec7",
   "metadata": {
    "papermill": {
     "duration": 0.019688,
     "end_time": "2022-03-16T17:18:47.705642",
     "exception": false,
     "start_time": "2022-03-16T17:18:47.685954",
     "status": "completed"
    },
    "tags": []
   },
   "source": [
    "# Build Model\n",
    "We will use LongFormer backbone and add our own NER head using one hidden layer of size 256 and one final layer with softmax. We use 15 classes because we have a `B` class and `I` class for each of 7 labels. And we have an additional class (called `O` class) for tokens that do not belong to one of the 14 classes."
   ]
  },
  {
   "cell_type": "code",
   "execution_count": 15,
   "id": "831c3fa5",
   "metadata": {
    "execution": {
     "iopub.execute_input": "2022-03-16T17:18:47.747089Z",
     "iopub.status.busy": "2022-03-16T17:18:47.746505Z",
     "iopub.status.idle": "2022-03-16T17:18:47.750114Z",
     "shell.execute_reply": "2022-03-16T17:18:47.750699Z",
     "shell.execute_reply.started": "2022-03-14T18:37:03.57709Z"
    },
    "papermill": {
     "duration": 0.025943,
     "end_time": "2022-03-16T17:18:47.750872",
     "exception": false,
     "start_time": "2022-03-16T17:18:47.724929",
     "status": "completed"
    },
    "tags": []
   },
   "outputs": [],
   "source": [
    "import torch\n",
    "from transformers import AutoModelForQuestionAnswering\n",
    "\n",
    "device = torch.device(\"cuda\") if torch.cuda.is_available() else torch.device(\"cpu\")"
   ]
  },
  {
   "cell_type": "code",
   "execution_count": 16,
   "id": "c56ec35c",
   "metadata": {
    "execution": {
     "iopub.execute_input": "2022-03-16T17:18:47.794295Z",
     "iopub.status.busy": "2022-03-16T17:18:47.792807Z",
     "iopub.status.idle": "2022-03-16T17:18:54.401640Z",
     "shell.execute_reply": "2022-03-16T17:18:54.401020Z",
     "shell.execute_reply.started": "2022-03-14T18:37:03.58308Z"
    },
    "papermill": {
     "duration": 6.631276,
     "end_time": "2022-03-16T17:18:54.401818",
     "exception": false,
     "start_time": "2022-03-16T17:18:47.770542",
     "status": "completed"
    },
    "tags": []
   },
   "outputs": [],
   "source": [
    "model = AutoModelForQuestionAnswering.from_pretrained(model_checkpoint)"
   ]
  },
  {
   "cell_type": "code",
   "execution_count": 17,
   "id": "cc0fa584",
   "metadata": {
    "execution": {
     "iopub.execute_input": "2022-03-16T17:18:54.443869Z",
     "iopub.status.busy": "2022-03-16T17:18:54.443193Z",
     "iopub.status.idle": "2022-03-16T17:18:54.446630Z",
     "shell.execute_reply": "2022-03-16T17:18:54.447084Z",
     "shell.execute_reply.started": "2022-03-14T18:37:08.849248Z"
    },
    "papermill": {
     "duration": 0.026312,
     "end_time": "2022-03-16T17:18:54.447275",
     "exception": false,
     "start_time": "2022-03-16T17:18:54.420963",
     "status": "completed"
    },
    "tags": []
   },
   "outputs": [],
   "source": [
    "question = test.question.iloc[0]\n",
    "context = test.context.iloc[0]"
   ]
  },
  {
   "cell_type": "code",
   "execution_count": 18,
   "id": "f0a410db",
   "metadata": {
    "execution": {
     "iopub.execute_input": "2022-03-16T17:18:54.489350Z",
     "iopub.status.busy": "2022-03-16T17:18:54.488728Z",
     "iopub.status.idle": "2022-03-16T17:18:54.493871Z",
     "shell.execute_reply": "2022-03-16T17:18:54.493425Z",
     "shell.execute_reply.started": "2022-03-14T18:37:08.855505Z"
    },
    "papermill": {
     "duration": 0.027312,
     "end_time": "2022-03-16T17:18:54.494021",
     "exception": false,
     "start_time": "2022-03-16T17:18:54.466709",
     "status": "completed"
    },
    "tags": []
   },
   "outputs": [
    {
     "data": {
      "text/plain": [
       "Dataset({\n",
       "    features: ['attention_mask', 'example_id', 'input_ids'],\n",
       "    num_rows: 70\n",
       "})"
      ]
     },
     "execution_count": 18,
     "metadata": {},
     "output_type": "execute_result"
    }
   ],
   "source": [
    "validation_dataset"
   ]
  },
  {
   "cell_type": "code",
   "execution_count": 19,
   "id": "f321188f",
   "metadata": {
    "execution": {
     "iopub.execute_input": "2022-03-16T17:18:54.536095Z",
     "iopub.status.busy": "2022-03-16T17:18:54.535498Z",
     "iopub.status.idle": "2022-03-16T17:18:54.539327Z",
     "shell.execute_reply": "2022-03-16T17:18:54.539836Z",
     "shell.execute_reply.started": "2022-03-14T18:37:08.876181Z"
    },
    "papermill": {
     "duration": 0.026369,
     "end_time": "2022-03-16T17:18:54.540006",
     "exception": false,
     "start_time": "2022-03-16T17:18:54.513637",
     "status": "completed"
    },
    "tags": []
   },
   "outputs": [],
   "source": [
    "from torch.utils.data import DataLoader\n",
    "from transformers import default_data_collator\n",
    "dataloader = DataLoader(validation_dataset, collate_fn = default_data_collator, batch_size = 8)"
   ]
  },
  {
   "cell_type": "code",
   "execution_count": 20,
   "id": "a167860a",
   "metadata": {
    "execution": {
     "iopub.execute_input": "2022-03-16T17:18:54.583183Z",
     "iopub.status.busy": "2022-03-16T17:18:54.582151Z",
     "iopub.status.idle": "2022-03-16T17:18:54.587562Z",
     "shell.execute_reply": "2022-03-16T17:18:54.588082Z",
     "shell.execute_reply.started": "2022-03-14T18:37:08.88976Z"
    },
    "papermill": {
     "duration": 0.028886,
     "end_time": "2022-03-16T17:18:54.588276",
     "exception": false,
     "start_time": "2022-03-16T17:18:54.559390",
     "status": "completed"
    },
    "tags": []
   },
   "outputs": [],
   "source": [
    "def preprocess(question, context, text_id):\n",
    "    inputs = tokenizer(\n",
    "        question,\n",
    "        context,\n",
    "        max_length=max_length,\n",
    "        truncation=\"only_second\",\n",
    "        stride=stride,\n",
    "        return_overflowing_tokens=True,\n",
    "        return_offsets_mapping=True,\n",
    "        padding=\"max_length\",\n",
    "        return_tensors = 'pt'\n",
    "    )\n",
    "\n",
    "    sample_map = inputs.pop(\"overflow_to_sample_mapping\")\n",
    "    offset_mapping = inputs.pop(\"offset_mapping\")\n",
    "#     example_ids = []\n",
    "\n",
    "#     for i in range(len(inputs[\"input_ids\"])):\n",
    "#         sample_idx = sample_map[i]\n",
    "#         example_ids.append(text_id)\n",
    "#         sequence_ids = inputs.sequence_ids(i)\n",
    "\n",
    "#     inputs[\"example_id\"] = example_ids\n",
    "    \n",
    "    return inputs, offset_mapping"
   ]
  },
  {
   "cell_type": "code",
   "execution_count": 21,
   "id": "22685524",
   "metadata": {
    "execution": {
     "iopub.execute_input": "2022-03-16T17:18:54.631170Z",
     "iopub.status.busy": "2022-03-16T17:18:54.630199Z",
     "iopub.status.idle": "2022-03-16T17:18:54.639526Z",
     "shell.execute_reply": "2022-03-16T17:18:54.639956Z",
     "shell.execute_reply.started": "2022-03-14T18:37:08.902761Z"
    },
    "papermill": {
     "duration": 0.032415,
     "end_time": "2022-03-16T17:18:54.640134",
     "exception": false,
     "start_time": "2022-03-16T17:18:54.607719",
     "status": "completed"
    },
    "tags": []
   },
   "outputs": [],
   "source": [
    "def get_predictions(outputs, inputs, offsets, context):\n",
    "    start_logits = outputs.start_logits\n",
    "    end_logits = outputs.end_logits\n",
    "    #print(start_logits.shape, end_logits.shape)\n",
    "    sequence_ids = inputs.sequence_ids()\n",
    "    # Mask everything apart from the tokens of the context\n",
    "    mask = [i != 1 for i in sequence_ids]\n",
    "    # Unmask the [CLS] token\n",
    "    mask[0] = False\n",
    "    # Mask all the [PAD] tokens\n",
    "    mask = torch.logical_or(torch.tensor(mask)[None], (inputs[\"attention_mask\"] == 0))\n",
    "\n",
    "    start_logits[mask] = -10000\n",
    "    end_logits[mask] = -10000\n",
    "    start_probabilities = torch.nn.functional.softmax(start_logits, dim=-1)\n",
    "    end_probabilities = torch.nn.functional.softmax(end_logits, dim=-1)\n",
    "    print(f\"start shape {start_probabilities.shape}, end shape {end_probabilities.shape}\")\n",
    "    candidates = []\n",
    "    for start_probs, end_probs in zip(start_probabilities, end_probabilities):\n",
    "        scores = start_probs[:, None] * end_probs[None, :]\n",
    "        idx = torch.triu(scores).argmax().item()\n",
    "\n",
    "        start_idx = idx // scores.shape[0]\n",
    "        end_idx = idx % scores.shape[0]\n",
    "        score = scores[start_idx, end_idx].item()\n",
    "        candidates.append((start_idx, end_idx, score))\n",
    "\n",
    "    #print(candidates)\n",
    "    results = []\n",
    "    for candidate, offset in zip(candidates, offsets):\n",
    "        start_token, end_token, score = candidate\n",
    "        start_char, _ = offset[start_token]\n",
    "        _, end_char = offset[end_token]\n",
    "        answer = context[start_char:end_char]\n",
    "        result = {\"answer\": answer, \"start\": start_char, \"end\": end_char, \"score\": score}\n",
    "        results.append(result)\n",
    "    return results"
   ]
  },
  {
   "cell_type": "code",
   "execution_count": 22,
   "id": "d0778609",
   "metadata": {
    "execution": {
     "iopub.execute_input": "2022-03-16T17:18:54.683616Z",
     "iopub.status.busy": "2022-03-16T17:18:54.682667Z",
     "iopub.status.idle": "2022-03-16T17:18:54.687777Z",
     "shell.execute_reply": "2022-03-16T17:18:54.688213Z",
     "shell.execute_reply.started": "2022-03-14T18:37:08.923257Z"
    },
    "papermill": {
     "duration": 0.028933,
     "end_time": "2022-03-16T17:18:54.688415",
     "exception": false,
     "start_time": "2022-03-16T17:18:54.659482",
     "status": "completed"
    },
    "tags": []
   },
   "outputs": [],
   "source": [
    "def get_predictionstring(result):\n",
    "    pred = result['answer']\n",
    "    if len(pred) == 0:\n",
    "        return \"\"\n",
    "    start = result['start']\n",
    "    end = result['end']\n",
    "    score = result['score']\n",
    "    start_index = len(context[:start].split())\n",
    "    end_index = start_index + len(pred.split())\n",
    "    predictionstring = \"\"\n",
    "    for i in range(start_index, end_index):\n",
    "        predictionstring += str(i) + \" \"\n",
    "    return predictionstring"
   ]
  },
  {
   "cell_type": "code",
   "execution_count": 23,
   "id": "eccfc987",
   "metadata": {
    "execution": {
     "iopub.execute_input": "2022-03-16T17:18:54.730600Z",
     "iopub.status.busy": "2022-03-16T17:18:54.729644Z",
     "iopub.status.idle": "2022-03-16T17:18:54.733690Z",
     "shell.execute_reply": "2022-03-16T17:18:54.734109Z",
     "shell.execute_reply.started": "2022-03-14T18:37:08.941944Z"
    },
    "papermill": {
     "duration": 0.026724,
     "end_time": "2022-03-16T17:18:54.734293",
     "exception": false,
     "start_time": "2022-03-16T17:18:54.707569",
     "status": "completed"
    },
    "tags": []
   },
   "outputs": [],
   "source": [
    "test['predictionstring'] = \"\""
   ]
  },
  {
   "cell_type": "code",
   "execution_count": 24,
   "id": "8c296edd",
   "metadata": {
    "execution": {
     "iopub.execute_input": "2022-03-16T17:18:54.777389Z",
     "iopub.status.busy": "2022-03-16T17:18:54.776383Z",
     "iopub.status.idle": "2022-03-16T17:18:54.780195Z",
     "shell.execute_reply": "2022-03-16T17:18:54.780642Z",
     "shell.execute_reply.started": "2022-03-14T18:37:08.957097Z"
    },
    "papermill": {
     "duration": 0.026786,
     "end_time": "2022-03-16T17:18:54.780829",
     "exception": false,
     "start_time": "2022-03-16T17:18:54.754043",
     "status": "completed"
    },
    "tags": []
   },
   "outputs": [],
   "source": [
    "predictions_dict = {}\n",
    "predictions_dict['id'] = []\n",
    "predictions_dict['class'] = []\n",
    "predictions_dict['predictionstring'] = []"
   ]
  },
  {
   "cell_type": "code",
   "execution_count": 25,
   "id": "29cbe4d8",
   "metadata": {
    "execution": {
     "iopub.execute_input": "2022-03-16T17:18:54.823025Z",
     "iopub.status.busy": "2022-03-16T17:18:54.822116Z",
     "iopub.status.idle": "2022-03-16T17:18:55.915712Z",
     "shell.execute_reply": "2022-03-16T17:18:55.916505Z",
     "shell.execute_reply.started": "2022-03-14T18:37:08.973277Z"
    },
    "papermill": {
     "duration": 1.116527,
     "end_time": "2022-03-16T17:18:55.916717",
     "exception": false,
     "start_time": "2022-03-16T17:18:54.800190",
     "status": "completed"
    },
    "tags": []
   },
   "outputs": [
    {
     "name": "stdout",
     "output_type": "stream",
     "text": [
      "start shape torch.Size([2, 512]), end shape torch.Size([2, 512])\n"
     ]
    }
   ],
   "source": [
    "with torch.no_grad():\n",
    "#     counter = 0\n",
    "    for index, row in test.iterrows():\n",
    "        question = row.question\n",
    "        text_id = row.id\n",
    "        context = row.context\n",
    "        inputs, offset_mapping = preprocess(question, context, text_id)\n",
    "        outputs = model(**inputs)\n",
    "        results = get_predictions(outputs, inputs, offset_mapping, context)\n",
    "        break\n",
    "        for result in results:\n",
    "            predictionstring = get_predictionstring(result)\n",
    "            if len(predictionstring) == 0:\n",
    "                continue\n",
    "            predictions_dict['id'].append(text_id)\n",
    "            predictions_dict['class'].append(question)\n",
    "            predictions_dict['predictionstring'].append(predictionstring)\n",
    "#         counter += 1\n",
    "#         if counter > 3:\n",
    "#             break\n",
    "            "
   ]
  },
  {
   "cell_type": "code",
   "execution_count": 26,
   "id": "8e841a4d",
   "metadata": {
    "execution": {
     "iopub.execute_input": "2022-03-16T17:18:55.959097Z",
     "iopub.status.busy": "2022-03-16T17:18:55.958508Z",
     "iopub.status.idle": "2022-03-16T17:18:55.962594Z",
     "shell.execute_reply": "2022-03-16T17:18:55.963116Z",
     "shell.execute_reply.started": "2022-03-14T18:37:10.165066Z"
    },
    "papermill": {
     "duration": 0.026749,
     "end_time": "2022-03-16T17:18:55.963292",
     "exception": false,
     "start_time": "2022-03-16T17:18:55.936543",
     "status": "completed"
    },
    "tags": []
   },
   "outputs": [],
   "source": [
    "sub = pd.DataFrame.from_dict(predictions_dict)"
   ]
  },
  {
   "cell_type": "code",
   "execution_count": 27,
   "id": "ab9c5e78",
   "metadata": {
    "execution": {
     "iopub.execute_input": "2022-03-16T17:18:56.005718Z",
     "iopub.status.busy": "2022-03-16T17:18:56.005076Z",
     "iopub.status.idle": "2022-03-16T17:18:56.012057Z",
     "shell.execute_reply": "2022-03-16T17:18:56.012578Z",
     "shell.execute_reply.started": "2022-03-14T18:37:10.171498Z"
    },
    "papermill": {
     "duration": 0.029697,
     "end_time": "2022-03-16T17:18:56.012757",
     "exception": false,
     "start_time": "2022-03-16T17:18:55.983060",
     "status": "completed"
    },
    "tags": []
   },
   "outputs": [],
   "source": [
    "sub.to_csv(\"submission.csv\", index = False)"
   ]
  }
 ],
 "metadata": {
  "kernelspec": {
   "display_name": "Python 3",
   "language": "python",
   "name": "python3"
  },
  "language_info": {
   "codemirror_mode": {
    "name": "ipython",
    "version": 3
   },
   "file_extension": ".py",
   "mimetype": "text/x-python",
   "name": "python",
   "nbconvert_exporter": "python",
   "pygments_lexer": "ipython3",
   "version": "3.7.12"
  },
  "papermill": {
   "default_parameters": {},
   "duration": 33.59865,
   "end_time": "2022-03-16T17:18:59.053206",
   "environment_variables": {},
   "exception": null,
   "input_path": "__notebook__.ipynb",
   "output_path": "__notebook__.ipynb",
   "parameters": {},
   "start_time": "2022-03-16T17:18:25.454556",
   "version": "2.3.3"
  },
  "widgets": {
   "application/vnd.jupyter.widget-state+json": {
    "state": {
     "0837358acd7f4a6484841b0d7971d772": {
      "model_module": "@jupyter-widgets/controls",
      "model_module_version": "1.5.0",
      "model_name": "DescriptionStyleModel",
      "state": {
       "_model_module": "@jupyter-widgets/controls",
       "_model_module_version": "1.5.0",
       "_model_name": "DescriptionStyleModel",
       "_view_count": null,
       "_view_module": "@jupyter-widgets/base",
       "_view_module_version": "1.2.0",
       "_view_name": "StyleView",
       "description_width": ""
      }
     },
     "33acb8834d3141cabc233bc8dda71fe3": {
      "model_module": "@jupyter-widgets/controls",
      "model_module_version": "1.5.0",
      "model_name": "DescriptionStyleModel",
      "state": {
       "_model_module": "@jupyter-widgets/controls",
       "_model_module_version": "1.5.0",
       "_model_name": "DescriptionStyleModel",
       "_view_count": null,
       "_view_module": "@jupyter-widgets/base",
       "_view_module_version": "1.2.0",
       "_view_name": "StyleView",
       "description_width": ""
      }
     },
     "3d9c6293b7b14bcf983d428aa5a58e24": {
      "model_module": "@jupyter-widgets/base",
      "model_module_version": "1.2.0",
      "model_name": "LayoutModel",
      "state": {
       "_model_module": "@jupyter-widgets/base",
       "_model_module_version": "1.2.0",
       "_model_name": "LayoutModel",
       "_view_count": null,
       "_view_module": "@jupyter-widgets/base",
       "_view_module_version": "1.2.0",
       "_view_name": "LayoutView",
       "align_content": null,
       "align_items": null,
       "align_self": null,
       "border": null,
       "bottom": null,
       "display": null,
       "flex": null,
       "flex_flow": null,
       "grid_area": null,
       "grid_auto_columns": null,
       "grid_auto_flow": null,
       "grid_auto_rows": null,
       "grid_column": null,
       "grid_gap": null,
       "grid_row": null,
       "grid_template_areas": null,
       "grid_template_columns": null,
       "grid_template_rows": null,
       "height": null,
       "justify_content": null,
       "justify_items": null,
       "left": null,
       "margin": null,
       "max_height": null,
       "max_width": null,
       "min_height": null,
       "min_width": null,
       "object_fit": null,
       "object_position": null,
       "order": null,
       "overflow": null,
       "overflow_x": null,
       "overflow_y": null,
       "padding": null,
       "right": null,
       "top": null,
       "visibility": null,
       "width": null
      }
     },
     "45e5578053664a7fbac9e63f2431fa1c": {
      "model_module": "@jupyter-widgets/base",
      "model_module_version": "1.2.0",
      "model_name": "LayoutModel",
      "state": {
       "_model_module": "@jupyter-widgets/base",
       "_model_module_version": "1.2.0",
       "_model_name": "LayoutModel",
       "_view_count": null,
       "_view_module": "@jupyter-widgets/base",
       "_view_module_version": "1.2.0",
       "_view_name": "LayoutView",
       "align_content": null,
       "align_items": null,
       "align_self": null,
       "border": null,
       "bottom": null,
       "display": null,
       "flex": null,
       "flex_flow": null,
       "grid_area": null,
       "grid_auto_columns": null,
       "grid_auto_flow": null,
       "grid_auto_rows": null,
       "grid_column": null,
       "grid_gap": null,
       "grid_row": null,
       "grid_template_areas": null,
       "grid_template_columns": null,
       "grid_template_rows": null,
       "height": null,
       "justify_content": null,
       "justify_items": null,
       "left": null,
       "margin": null,
       "max_height": null,
       "max_width": null,
       "min_height": null,
       "min_width": null,
       "object_fit": null,
       "object_position": null,
       "order": null,
       "overflow": null,
       "overflow_x": null,
       "overflow_y": null,
       "padding": null,
       "right": null,
       "top": null,
       "visibility": null,
       "width": null
      }
     },
     "517fbbd6863f450b8e2a5a8d5e613660": {
      "model_module": "@jupyter-widgets/controls",
      "model_module_version": "1.5.0",
      "model_name": "HBoxModel",
      "state": {
       "_dom_classes": [],
       "_model_module": "@jupyter-widgets/controls",
       "_model_module_version": "1.5.0",
       "_model_name": "HBoxModel",
       "_view_count": null,
       "_view_module": "@jupyter-widgets/controls",
       "_view_module_version": "1.5.0",
       "_view_name": "HBoxView",
       "box_style": "",
       "children": [
        "IPY_MODEL_8e150ba33f164620a06a10c358eb094b",
        "IPY_MODEL_d758e4be53174d7e95b3f45b32daf9a7",
        "IPY_MODEL_dcd9614d00f94acf9403cb2d8aafe763"
       ],
       "layout": "IPY_MODEL_790bb107379d42d7afa28481579509b3"
      }
     },
     "61364ff108744c6fbb4e148841a41dd7": {
      "model_module": "@jupyter-widgets/base",
      "model_module_version": "1.2.0",
      "model_name": "LayoutModel",
      "state": {
       "_model_module": "@jupyter-widgets/base",
       "_model_module_version": "1.2.0",
       "_model_name": "LayoutModel",
       "_view_count": null,
       "_view_module": "@jupyter-widgets/base",
       "_view_module_version": "1.2.0",
       "_view_name": "LayoutView",
       "align_content": null,
       "align_items": null,
       "align_self": null,
       "border": null,
       "bottom": null,
       "display": null,
       "flex": null,
       "flex_flow": null,
       "grid_area": null,
       "grid_auto_columns": null,
       "grid_auto_flow": null,
       "grid_auto_rows": null,
       "grid_column": null,
       "grid_gap": null,
       "grid_row": null,
       "grid_template_areas": null,
       "grid_template_columns": null,
       "grid_template_rows": null,
       "height": null,
       "justify_content": null,
       "justify_items": null,
       "left": null,
       "margin": null,
       "max_height": null,
       "max_width": null,
       "min_height": null,
       "min_width": null,
       "object_fit": null,
       "object_position": null,
       "order": null,
       "overflow": null,
       "overflow_x": null,
       "overflow_y": null,
       "padding": null,
       "right": null,
       "top": null,
       "visibility": null,
       "width": null
      }
     },
     "790bb107379d42d7afa28481579509b3": {
      "model_module": "@jupyter-widgets/base",
      "model_module_version": "1.2.0",
      "model_name": "LayoutModel",
      "state": {
       "_model_module": "@jupyter-widgets/base",
       "_model_module_version": "1.2.0",
       "_model_name": "LayoutModel",
       "_view_count": null,
       "_view_module": "@jupyter-widgets/base",
       "_view_module_version": "1.2.0",
       "_view_name": "LayoutView",
       "align_content": null,
       "align_items": null,
       "align_self": null,
       "border": null,
       "bottom": null,
       "display": null,
       "flex": null,
       "flex_flow": null,
       "grid_area": null,
       "grid_auto_columns": null,
       "grid_auto_flow": null,
       "grid_auto_rows": null,
       "grid_column": null,
       "grid_gap": null,
       "grid_row": null,
       "grid_template_areas": null,
       "grid_template_columns": null,
       "grid_template_rows": null,
       "height": null,
       "justify_content": null,
       "justify_items": null,
       "left": null,
       "margin": null,
       "max_height": null,
       "max_width": null,
       "min_height": null,
       "min_width": null,
       "object_fit": null,
       "object_position": null,
       "order": null,
       "overflow": null,
       "overflow_x": null,
       "overflow_y": null,
       "padding": null,
       "right": null,
       "top": null,
       "visibility": null,
       "width": null
      }
     },
     "8e150ba33f164620a06a10c358eb094b": {
      "model_module": "@jupyter-widgets/controls",
      "model_module_version": "1.5.0",
      "model_name": "HTMLModel",
      "state": {
       "_dom_classes": [],
       "_model_module": "@jupyter-widgets/controls",
       "_model_module_version": "1.5.0",
       "_model_name": "HTMLModel",
       "_view_count": null,
       "_view_module": "@jupyter-widgets/controls",
       "_view_module_version": "1.5.0",
       "_view_name": "HTMLView",
       "description": "",
       "description_tooltip": null,
       "layout": "IPY_MODEL_45e5578053664a7fbac9e63f2431fa1c",
       "placeholder": "​",
       "style": "IPY_MODEL_0837358acd7f4a6484841b0d7971d772",
       "value": "100%"
      }
     },
     "d32edf6fa43644acb6bfc404ebee2d23": {
      "model_module": "@jupyter-widgets/controls",
      "model_module_version": "1.5.0",
      "model_name": "ProgressStyleModel",
      "state": {
       "_model_module": "@jupyter-widgets/controls",
       "_model_module_version": "1.5.0",
       "_model_name": "ProgressStyleModel",
       "_view_count": null,
       "_view_module": "@jupyter-widgets/base",
       "_view_module_version": "1.2.0",
       "_view_name": "StyleView",
       "bar_color": null,
       "description_width": ""
      }
     },
     "d758e4be53174d7e95b3f45b32daf9a7": {
      "model_module": "@jupyter-widgets/controls",
      "model_module_version": "1.5.0",
      "model_name": "FloatProgressModel",
      "state": {
       "_dom_classes": [],
       "_model_module": "@jupyter-widgets/controls",
       "_model_module_version": "1.5.0",
       "_model_name": "FloatProgressModel",
       "_view_count": null,
       "_view_module": "@jupyter-widgets/controls",
       "_view_module_version": "1.5.0",
       "_view_name": "ProgressView",
       "bar_style": "success",
       "description": "",
       "description_tooltip": null,
       "layout": "IPY_MODEL_61364ff108744c6fbb4e148841a41dd7",
       "max": 1.0,
       "min": 0.0,
       "orientation": "horizontal",
       "style": "IPY_MODEL_d32edf6fa43644acb6bfc404ebee2d23",
       "value": 1.0
      }
     },
     "dcd9614d00f94acf9403cb2d8aafe763": {
      "model_module": "@jupyter-widgets/controls",
      "model_module_version": "1.5.0",
      "model_name": "HTMLModel",
      "state": {
       "_dom_classes": [],
       "_model_module": "@jupyter-widgets/controls",
       "_model_module_version": "1.5.0",
       "_model_name": "HTMLModel",
       "_view_count": null,
       "_view_module": "@jupyter-widgets/controls",
       "_view_module_version": "1.5.0",
       "_view_name": "HTMLView",
       "description": "",
       "description_tooltip": null,
       "layout": "IPY_MODEL_3d9c6293b7b14bcf983d428aa5a58e24",
       "placeholder": "​",
       "style": "IPY_MODEL_33acb8834d3141cabc233bc8dda71fe3",
       "value": " 1/1 [00:00&lt;00:00, 10.46ba/s]"
      }
     }
    },
    "version_major": 2,
    "version_minor": 0
   }
  }
 },
 "nbformat": 4,
 "nbformat_minor": 5
}
