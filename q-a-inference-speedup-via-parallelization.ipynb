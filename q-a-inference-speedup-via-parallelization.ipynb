{
 "cells": [
  {
   "cell_type": "code",
   "execution_count": 1,
   "id": "dd00e53f",
   "metadata": {
    "execution": {
     "iopub.execute_input": "2022-03-16T17:12:20.982542Z",
     "iopub.status.busy": "2022-03-16T17:12:20.981056Z",
     "iopub.status.idle": "2022-03-16T17:12:31.695069Z",
     "shell.execute_reply": "2022-03-16T17:12:31.694457Z",
     "shell.execute_reply.started": "2022-03-12T14:22:00.351391Z"
    },
    "papermill": {
     "duration": 10.735581,
     "end_time": "2022-03-16T17:12:31.695224",
     "exception": false,
     "start_time": "2022-03-16T17:12:20.959643",
     "status": "completed"
    },
    "tags": []
   },
   "outputs": [],
   "source": [
    "import os\n",
    "import pandas as pd, numpy as np\n",
    "import matplotlib.pyplot as plt\n",
    "os.environ['TF_CPP_MIN_LOG_LEVEL'] = '3'\n",
    "from transformers import *\n",
    "from datasets import get_dataset_config_names, load_dataset\n",
    "import tqdm.notebook as tqdm"
   ]
  },
  {
   "cell_type": "markdown",
   "id": "f7782712",
   "metadata": {
    "papermill": {
     "duration": 0.016763,
     "end_time": "2022-03-16T17:12:31.730517",
     "exception": false,
     "start_time": "2022-03-16T17:12:31.713754",
     "status": "completed"
    },
    "tags": []
   },
   "source": [
    "# Load Test"
   ]
  },
  {
   "cell_type": "code",
   "execution_count": 2,
   "id": "040d37c7",
   "metadata": {
    "execution": {
     "iopub.execute_input": "2022-03-16T17:12:31.767064Z",
     "iopub.status.busy": "2022-03-16T17:12:31.766295Z",
     "iopub.status.idle": "2022-03-16T17:12:31.813971Z",
     "shell.execute_reply": "2022-03-16T17:12:31.814589Z",
     "shell.execute_reply.started": "2022-03-12T14:22:14.890338Z"
    },
    "papermill": {
     "duration": 0.068016,
     "end_time": "2022-03-16T17:12:31.815006",
     "exception": false,
     "start_time": "2022-03-16T17:12:31.746990",
     "status": "completed"
    },
    "tags": []
   },
   "outputs": [
    {
     "data": {
      "text/html": [
       "<div>\n",
       "<style scoped>\n",
       "    .dataframe tbody tr th:only-of-type {\n",
       "        vertical-align: middle;\n",
       "    }\n",
       "\n",
       "    .dataframe tbody tr th {\n",
       "        vertical-align: top;\n",
       "    }\n",
       "\n",
       "    .dataframe thead th {\n",
       "        text-align: right;\n",
       "    }\n",
       "</style>\n",
       "<table border=\"1\" class=\"dataframe\">\n",
       "  <thead>\n",
       "    <tr style=\"text-align: right;\">\n",
       "      <th></th>\n",
       "      <th>id</th>\n",
       "      <th>text</th>\n",
       "    </tr>\n",
       "  </thead>\n",
       "  <tbody>\n",
       "    <tr>\n",
       "      <th>0</th>\n",
       "      <td>0FB0700DAF44</td>\n",
       "      <td>During a group project, have you ever asked a ...</td>\n",
       "    </tr>\n",
       "    <tr>\n",
       "      <th>1</th>\n",
       "      <td>D72CB1C11673</td>\n",
       "      <td>Making choices in life can be very difficult. ...</td>\n",
       "    </tr>\n",
       "    <tr>\n",
       "      <th>2</th>\n",
       "      <td>18409261F5C2</td>\n",
       "      <td>80% of Americans believe seeking multiple opin...</td>\n",
       "    </tr>\n",
       "    <tr>\n",
       "      <th>3</th>\n",
       "      <td>DF920E0A7337</td>\n",
       "      <td>Have you ever asked more than one person for h...</td>\n",
       "    </tr>\n",
       "    <tr>\n",
       "      <th>4</th>\n",
       "      <td>D46BCB48440A</td>\n",
       "      <td>When people ask for advice,they sometimes talk...</td>\n",
       "    </tr>\n",
       "  </tbody>\n",
       "</table>\n",
       "</div>"
      ],
      "text/plain": [
       "             id                                               text\n",
       "0  0FB0700DAF44  During a group project, have you ever asked a ...\n",
       "1  D72CB1C11673  Making choices in life can be very difficult. ...\n",
       "2  18409261F5C2  80% of Americans believe seeking multiple opin...\n",
       "3  DF920E0A7337  Have you ever asked more than one person for h...\n",
       "4  D46BCB48440A  When people ask for advice,they sometimes talk..."
      ]
     },
     "execution_count": 2,
     "metadata": {},
     "output_type": "execute_result"
    }
   ],
   "source": [
    "# https://www.kaggle.com/raghavendrakotala/fine-tunned-on-roberta-base-as-ner-problem-0-533\n",
    "test_names, test = [], []\n",
    "for f in list(os.listdir('../input/feedback-prize-2021/test')):\n",
    "    test_names.append(f.replace('.txt', ''))\n",
    "    test.append(open('../input/feedback-prize-2021/test/' + f, 'r').read())\n",
    "test = pd.DataFrame({'id': test_names, 'text': test})\n",
    "test.head()"
   ]
  },
  {
   "cell_type": "code",
   "execution_count": 3,
   "id": "d44384c7",
   "metadata": {
    "execution": {
     "iopub.execute_input": "2022-03-16T17:12:31.858434Z",
     "iopub.status.busy": "2022-03-16T17:12:31.857647Z",
     "iopub.status.idle": "2022-03-16T17:12:31.860185Z",
     "shell.execute_reply": "2022-03-16T17:12:31.859726Z",
     "shell.execute_reply.started": "2022-03-12T14:22:14.944836Z"
    },
    "papermill": {
     "duration": 0.023067,
     "end_time": "2022-03-16T17:12:31.860299",
     "exception": false,
     "start_time": "2022-03-16T17:12:31.837232",
     "status": "completed"
    },
    "tags": []
   },
   "outputs": [],
   "source": [
    "test.columns = [\"id\", \"context\"]"
   ]
  },
  {
   "cell_type": "code",
   "execution_count": 4,
   "id": "f0e4d9fc",
   "metadata": {
    "execution": {
     "iopub.execute_input": "2022-03-16T17:12:31.897573Z",
     "iopub.status.busy": "2022-03-16T17:12:31.896891Z",
     "iopub.status.idle": "2022-03-16T17:12:31.899236Z",
     "shell.execute_reply": "2022-03-16T17:12:31.898843Z",
     "shell.execute_reply.started": "2022-03-12T14:22:14.95249Z"
    },
    "papermill": {
     "duration": 0.022257,
     "end_time": "2022-03-16T17:12:31.899337",
     "exception": false,
     "start_time": "2022-03-16T17:12:31.877080",
     "status": "completed"
    },
    "tags": []
   },
   "outputs": [],
   "source": [
    "labels = ['Lead', 'Position', 'Evidence', 'Claim', 'Concluding Statement',\n",
    "             'Counterclaim', 'Rebuttal']"
   ]
  },
  {
   "cell_type": "code",
   "execution_count": 5,
   "id": "0465b213",
   "metadata": {
    "execution": {
     "iopub.execute_input": "2022-03-16T17:12:31.942015Z",
     "iopub.status.busy": "2022-03-16T17:12:31.941167Z",
     "iopub.status.idle": "2022-03-16T17:12:31.943560Z",
     "shell.execute_reply": "2022-03-16T17:12:31.943146Z",
     "shell.execute_reply.started": "2022-03-12T14:30:12.592029Z"
    },
    "papermill": {
     "duration": 0.027186,
     "end_time": "2022-03-16T17:12:31.943659",
     "exception": false,
     "start_time": "2022-03-16T17:12:31.916473",
     "status": "completed"
    },
    "tags": []
   },
   "outputs": [],
   "source": [
    "test['question'] = [labels for row in range(test.shape[0])]"
   ]
  },
  {
   "cell_type": "code",
   "execution_count": 6,
   "id": "71d062d9",
   "metadata": {
    "execution": {
     "iopub.execute_input": "2022-03-16T17:12:31.981015Z",
     "iopub.status.busy": "2022-03-16T17:12:31.980239Z",
     "iopub.status.idle": "2022-03-16T17:12:31.995002Z",
     "shell.execute_reply": "2022-03-16T17:12:31.994511Z",
     "shell.execute_reply.started": "2022-03-12T14:30:15.370789Z"
    },
    "papermill": {
     "duration": 0.034741,
     "end_time": "2022-03-16T17:12:31.995112",
     "exception": false,
     "start_time": "2022-03-16T17:12:31.960371",
     "status": "completed"
    },
    "tags": []
   },
   "outputs": [],
   "source": [
    "test = test.explode('question')"
   ]
  },
  {
   "cell_type": "code",
   "execution_count": 7,
   "id": "dc2db882",
   "metadata": {
    "execution": {
     "iopub.execute_input": "2022-03-16T17:12:32.034395Z",
     "iopub.status.busy": "2022-03-16T17:12:32.033824Z",
     "iopub.status.idle": "2022-03-16T17:12:32.037310Z",
     "shell.execute_reply": "2022-03-16T17:12:32.036620Z",
     "shell.execute_reply.started": "2022-03-12T14:22:14.988257Z"
    },
    "papermill": {
     "duration": 0.025426,
     "end_time": "2022-03-16T17:12:32.037449",
     "exception": false,
     "start_time": "2022-03-16T17:12:32.012023",
     "status": "completed"
    },
    "tags": []
   },
   "outputs": [
    {
     "name": "stdout",
     "output_type": "stream",
     "text": [
      "There are 5 train texts.\n"
     ]
    }
   ],
   "source": [
    "IDS = test.id.unique()\n",
    "print('There are',len(IDS),'train texts.')"
   ]
  },
  {
   "cell_type": "code",
   "execution_count": 8,
   "id": "d4356750",
   "metadata": {
    "execution": {
     "iopub.execute_input": "2022-03-16T17:12:32.076210Z",
     "iopub.status.busy": "2022-03-16T17:12:32.075654Z",
     "iopub.status.idle": "2022-03-16T17:12:32.158076Z",
     "shell.execute_reply": "2022-03-16T17:12:32.157589Z",
     "shell.execute_reply.started": "2022-03-12T14:22:15.009218Z"
    },
    "papermill": {
     "duration": 0.102689,
     "end_time": "2022-03-16T17:12:32.158205",
     "exception": false,
     "start_time": "2022-03-16T17:12:32.055516",
     "status": "completed"
    },
    "tags": []
   },
   "outputs": [],
   "source": [
    "#model_ckpt = \"distilbert-base-cased-distilled-squad\"\n",
    "model_checkpoint = \"../input/q-a-pytorch/model.h5\"\n",
    "# model_checkpoint = \"distilbert-base-cased-distilled-squad\"\n",
    "config_model = \"../input/q-a-pytorch/model.h5/config.json\"\n",
    "tokenizer = AutoTokenizer.from_pretrained(model_checkpoint)"
   ]
  },
  {
   "cell_type": "code",
   "execution_count": 9,
   "id": "9a18e78e",
   "metadata": {
    "execution": {
     "iopub.execute_input": "2022-03-16T17:12:32.196927Z",
     "iopub.status.busy": "2022-03-16T17:12:32.196111Z",
     "iopub.status.idle": "2022-03-16T17:12:32.198104Z",
     "shell.execute_reply": "2022-03-16T17:12:32.198522Z",
     "shell.execute_reply.started": "2022-03-12T14:22:15.101786Z"
    },
    "papermill": {
     "duration": 0.023108,
     "end_time": "2022-03-16T17:12:32.198643",
     "exception": false,
     "start_time": "2022-03-16T17:12:32.175535",
     "status": "completed"
    },
    "tags": []
   },
   "outputs": [],
   "source": [
    "max_length = tokenizer.model_max_length\n",
    "stride = 64"
   ]
  },
  {
   "cell_type": "code",
   "execution_count": 10,
   "id": "70dc118b",
   "metadata": {
    "execution": {
     "iopub.execute_input": "2022-03-16T17:12:32.240213Z",
     "iopub.status.busy": "2022-03-16T17:12:32.239412Z",
     "iopub.status.idle": "2022-03-16T17:12:32.241781Z",
     "shell.execute_reply": "2022-03-16T17:12:32.241296Z",
     "shell.execute_reply.started": "2022-03-12T14:22:15.109009Z"
    },
    "papermill": {
     "duration": 0.026081,
     "end_time": "2022-03-16T17:12:32.241912",
     "exception": false,
     "start_time": "2022-03-16T17:12:32.215831",
     "status": "completed"
    },
    "tags": []
   },
   "outputs": [],
   "source": [
    "def preprocess_validation_examples(examples):\n",
    "    #strip removes leading and trailing whitespaces\n",
    "    questions = [q.strip() for q in examples[\"question\"]]\n",
    "    inputs = tokenizer(\n",
    "        questions,\n",
    "        examples[\"context\"],\n",
    "        max_length=max_length,\n",
    "        truncation=\"only_second\",\n",
    "        stride=stride,\n",
    "        return_overflowing_tokens=True,\n",
    "        return_offsets_mapping=True,\n",
    "        padding=\"max_length\",\n",
    "    )\n",
    "\n",
    "    sample_map = inputs.pop(\"overflow_to_sample_mapping\")\n",
    "    offset_mapping = inputs.pop(\"offset_mapping\")\n",
    "    example_ids = []\n",
    "\n",
    "    for i in range(len(inputs[\"input_ids\"])):\n",
    "        sample_idx = sample_map[i]\n",
    "        example_ids.append(examples[\"id\"][sample_idx])\n",
    "\n",
    "        sequence_ids = inputs.sequence_ids(i)\n",
    "#         offset = inputs[\"offset_mapping\"][i]\n",
    "#         inputs[\"offset_mapping\"][i] = [\n",
    "#             o if sequence_ids[k] == 1 else None for k, o in enumerate(offset)\n",
    "#         ]\n",
    "\n",
    "    inputs[\"example_id\"] = example_ids\n",
    "    \n",
    "    return inputs"
   ]
  },
  {
   "cell_type": "markdown",
   "id": "ba226bdc",
   "metadata": {
    "papermill": {
     "duration": 0.017041,
     "end_time": "2022-03-16T17:12:32.276034",
     "exception": false,
     "start_time": "2022-03-16T17:12:32.258993",
     "status": "completed"
    },
    "tags": []
   },
   "source": [
    "# Build Model\n",
    "We will use LongFormer backbone and add our own NER head using one hidden layer of size 256 and one final layer with softmax. We use 15 classes because we have a `B` class and `I` class for each of 7 labels. And we have an additional class (called `O` class) for tokens that do not belong to one of the 14 classes."
   ]
  },
  {
   "cell_type": "code",
   "execution_count": 11,
   "id": "aff81eff",
   "metadata": {
    "execution": {
     "iopub.execute_input": "2022-03-16T17:12:32.357188Z",
     "iopub.status.busy": "2022-03-16T17:12:32.356574Z",
     "iopub.status.idle": "2022-03-16T17:12:32.359913Z",
     "shell.execute_reply": "2022-03-16T17:12:32.360323Z",
     "shell.execute_reply.started": "2022-03-12T14:22:15.120882Z"
    },
    "papermill": {
     "duration": 0.067184,
     "end_time": "2022-03-16T17:12:32.360456",
     "exception": false,
     "start_time": "2022-03-16T17:12:32.293272",
     "status": "completed"
    },
    "tags": []
   },
   "outputs": [],
   "source": [
    "import torch\n",
    "from transformers import AutoModelForQuestionAnswering\n",
    "\n",
    "device = torch.device(\"cuda\") if torch.cuda.is_available() else torch.device(\"cpu\")"
   ]
  },
  {
   "cell_type": "code",
   "execution_count": 12,
   "id": "ea2fdd9c",
   "metadata": {
    "execution": {
     "iopub.execute_input": "2022-03-16T17:12:32.398794Z",
     "iopub.status.busy": "2022-03-16T17:12:32.398038Z",
     "iopub.status.idle": "2022-03-16T17:12:39.832352Z",
     "shell.execute_reply": "2022-03-16T17:12:39.831747Z",
     "shell.execute_reply.started": "2022-03-12T14:22:15.138018Z"
    },
    "papermill": {
     "duration": 7.454084,
     "end_time": "2022-03-16T17:12:39.832492",
     "exception": false,
     "start_time": "2022-03-16T17:12:32.378408",
     "status": "completed"
    },
    "tags": []
   },
   "outputs": [],
   "source": [
    "model = AutoModelForQuestionAnswering.from_pretrained(model_checkpoint)"
   ]
  },
  {
   "cell_type": "code",
   "execution_count": 13,
   "id": "9cb000d7",
   "metadata": {
    "execution": {
     "iopub.execute_input": "2022-03-16T17:12:39.872776Z",
     "iopub.status.busy": "2022-03-16T17:12:39.871977Z",
     "iopub.status.idle": "2022-03-16T17:12:39.877199Z",
     "shell.execute_reply": "2022-03-16T17:12:39.878040Z",
     "shell.execute_reply.started": "2022-03-12T14:22:21.623356Z"
    },
    "papermill": {
     "duration": 0.026936,
     "end_time": "2022-03-16T17:12:39.878174",
     "exception": false,
     "start_time": "2022-03-16T17:12:39.851238",
     "status": "completed"
    },
    "tags": []
   },
   "outputs": [],
   "source": [
    "def preprocess(question, context, text_id):\n",
    "    inputs = tokenizer(\n",
    "        question,\n",
    "        context,\n",
    "        max_length=max_length,\n",
    "        truncation=\"only_second\",\n",
    "        stride=stride,\n",
    "        return_overflowing_tokens=True,\n",
    "        return_offsets_mapping=True,\n",
    "        padding=\"max_length\",\n",
    "        return_tensors = 'pt'\n",
    "    )\n",
    "\n",
    "    sample_map = inputs.pop(\"overflow_to_sample_mapping\")\n",
    "    offset_mapping = inputs.pop(\"offset_mapping\")\n",
    "    return inputs, offset_mapping"
   ]
  },
  {
   "cell_type": "code",
   "execution_count": 14,
   "id": "7a4f0707",
   "metadata": {
    "execution": {
     "iopub.execute_input": "2022-03-16T17:12:39.939832Z",
     "iopub.status.busy": "2022-03-16T17:12:39.938894Z",
     "iopub.status.idle": "2022-03-16T17:12:39.940948Z",
     "shell.execute_reply": "2022-03-16T17:12:39.941415Z",
     "shell.execute_reply.started": "2022-03-12T14:22:21.631416Z"
    },
    "papermill": {
     "duration": 0.043625,
     "end_time": "2022-03-16T17:12:39.941553",
     "exception": false,
     "start_time": "2022-03-16T17:12:39.897928",
     "status": "completed"
    },
    "tags": []
   },
   "outputs": [],
   "source": [
    "def get_predictions(outputs, inputs, offsets, context):\n",
    "    start_logits = outputs.start_logits\n",
    "    end_logits = outputs.end_logits\n",
    "    #print(start_logits.shape, end_logits.shape)\n",
    "    sequence_ids = inputs.sequence_ids()\n",
    "    # Mask everything apart from the tokens of the context\n",
    "    mask = [i != 1 for i in sequence_ids]\n",
    "    # Unmask the [CLS] token\n",
    "    mask[0] = False\n",
    "    # Mask all the [PAD] tokens\n",
    "    mask = torch.logical_or(torch.tensor(mask)[None], (inputs[\"attention_mask\"] == 0))\n",
    "\n",
    "    start_logits[mask] = -10000\n",
    "    end_logits[mask] = -10000\n",
    "    start_probabilities = torch.nn.functional.softmax(start_logits, dim=-1)\n",
    "    end_probabilities = torch.nn.functional.softmax(end_logits, dim=-1)\n",
    "    \n",
    "    candidates = []\n",
    "    for start_probs, end_probs in zip(start_probabilities, end_probabilities):\n",
    "        scores = start_probs[:, None] * end_probs[None, :]\n",
    "        idx = torch.triu(scores).argmax().item()\n",
    "\n",
    "        start_idx = idx // scores.shape[0]\n",
    "        end_idx = idx % scores.shape[0]\n",
    "        score = scores[start_idx, end_idx].item()\n",
    "        candidates.append((start_idx, end_idx, score))\n",
    "\n",
    "    #print(candidates)\n",
    "    results = []\n",
    "    for candidate, offset in zip(candidates, offsets):\n",
    "        start_token, end_token, score = candidate\n",
    "        start_char, _ = offset[start_token]\n",
    "        _, end_char = offset[end_token]\n",
    "        answer = context[start_char:end_char]\n",
    "        result = {\"answer\": answer, \"start\": start_char, \"end\": end_char, \"score\": score}\n",
    "        results.append(result)\n",
    "    return results"
   ]
  },
  {
   "cell_type": "code",
   "execution_count": 15,
   "id": "763abec8",
   "metadata": {
    "execution": {
     "iopub.execute_input": "2022-03-16T17:12:39.989092Z",
     "iopub.status.busy": "2022-03-16T17:12:39.988392Z",
     "iopub.status.idle": "2022-03-16T17:12:39.990599Z",
     "shell.execute_reply": "2022-03-16T17:12:39.991098Z",
     "shell.execute_reply.started": "2022-03-12T14:22:21.649251Z"
    },
    "papermill": {
     "duration": 0.028705,
     "end_time": "2022-03-16T17:12:39.991232",
     "exception": false,
     "start_time": "2022-03-16T17:12:39.962527",
     "status": "completed"
    },
    "tags": []
   },
   "outputs": [],
   "source": [
    "def get_predictionstring(result):\n",
    "    pred = result['answer']\n",
    "    if len(pred) == 0:\n",
    "        return \"\"\n",
    "    start = result['start']\n",
    "    end = result['end']\n",
    "    score = result['score']\n",
    "    start_index = len(context[:start].split())\n",
    "    end_index = start_index + len(pred.split())\n",
    "    predictionstring = \"\"\n",
    "    for i in range(start_index, end_index):\n",
    "        predictionstring += str(i) + \" \"\n",
    "    return predictionstring"
   ]
  },
  {
   "cell_type": "code",
   "execution_count": 16,
   "id": "1b37a0fe",
   "metadata": {
    "execution": {
     "iopub.execute_input": "2022-03-16T17:12:40.035129Z",
     "iopub.status.busy": "2022-03-16T17:12:40.034245Z",
     "iopub.status.idle": "2022-03-16T17:12:40.036197Z",
     "shell.execute_reply": "2022-03-16T17:12:40.036689Z",
     "shell.execute_reply.started": "2022-03-12T14:22:21.6684Z"
    },
    "papermill": {
     "duration": 0.026232,
     "end_time": "2022-03-16T17:12:40.036850",
     "exception": false,
     "start_time": "2022-03-16T17:12:40.010618",
     "status": "completed"
    },
    "tags": []
   },
   "outputs": [],
   "source": [
    "test['predictionstring'] = \"\""
   ]
  },
  {
   "cell_type": "code",
   "execution_count": 17,
   "id": "4449dc31",
   "metadata": {
    "execution": {
     "iopub.execute_input": "2022-03-16T17:12:40.078595Z",
     "iopub.status.busy": "2022-03-16T17:12:40.077754Z",
     "iopub.status.idle": "2022-03-16T17:12:40.080201Z",
     "shell.execute_reply": "2022-03-16T17:12:40.079767Z",
     "shell.execute_reply.started": "2022-03-12T14:22:21.681024Z"
    },
    "papermill": {
     "duration": 0.024655,
     "end_time": "2022-03-16T17:12:40.080359",
     "exception": false,
     "start_time": "2022-03-16T17:12:40.055704",
     "status": "completed"
    },
    "tags": []
   },
   "outputs": [],
   "source": [
    "predictions_dict = {}\n",
    "predictions_dict['id'] = []\n",
    "predictions_dict['class'] = []\n",
    "predictions_dict['predictionstring'] = []"
   ]
  },
  {
   "cell_type": "code",
   "execution_count": 18,
   "id": "2e178c75",
   "metadata": {
    "execution": {
     "iopub.execute_input": "2022-03-16T17:12:40.129756Z",
     "iopub.status.busy": "2022-03-16T17:12:40.128914Z",
     "iopub.status.idle": "2022-03-16T17:12:40.130936Z",
     "shell.execute_reply": "2022-03-16T17:12:40.131362Z",
     "shell.execute_reply.started": "2022-03-12T14:30:23.7206Z"
    },
    "papermill": {
     "duration": 0.03341,
     "end_time": "2022-03-16T17:12:40.131484",
     "exception": false,
     "start_time": "2022-03-16T17:12:40.098074",
     "status": "completed"
    },
    "tags": []
   },
   "outputs": [],
   "source": [
    "test_dict = test.to_dict('records')"
   ]
  },
  {
   "cell_type": "code",
   "execution_count": 19,
   "id": "c6422478",
   "metadata": {
    "execution": {
     "iopub.execute_input": "2022-03-16T17:12:40.171850Z",
     "iopub.status.busy": "2022-03-16T17:12:40.171012Z",
     "iopub.status.idle": "2022-03-16T17:13:18.827082Z",
     "shell.execute_reply": "2022-03-16T17:13:18.826107Z",
     "shell.execute_reply.started": "2022-03-12T14:31:09.233929Z"
    },
    "papermill": {
     "duration": 38.676317,
     "end_time": "2022-03-16T17:13:18.827236",
     "exception": false,
     "start_time": "2022-03-16T17:12:40.150919",
     "status": "completed"
    },
    "tags": []
   },
   "outputs": [],
   "source": [
    "outputs_list = []\n",
    "with torch.no_grad():\n",
    "#     counter = 0\n",
    "    for row in test_dict:\n",
    "        question = row['question']\n",
    "        context = row['context']\n",
    "        text_id = row['id']\n",
    "        inputs, offset_mapping = preprocess(question, context, text_id)\n",
    "        outputs = model(**inputs)\n",
    "        outputs_list.append((outputs, inputs, offset_mapping, question, text_id, context))\n",
    "        #results = get_predictions(outputs, inputs, offset_mapping, context)\n",
    "#         counter += 1\n",
    "#         if counter > 3:\n",
    "#             break\n",
    "            "
   ]
  },
  {
   "cell_type": "code",
   "execution_count": 20,
   "id": "30ad3dd1",
   "metadata": {
    "execution": {
     "iopub.execute_input": "2022-03-16T17:13:18.871308Z",
     "iopub.status.busy": "2022-03-16T17:13:18.870414Z",
     "iopub.status.idle": "2022-03-16T17:13:18.872166Z",
     "shell.execute_reply": "2022-03-16T17:13:18.872648Z"
    },
    "papermill": {
     "duration": 0.027705,
     "end_time": "2022-03-16T17:13:18.872771",
     "exception": false,
     "start_time": "2022-03-16T17:13:18.845066",
     "status": "completed"
    },
    "tags": []
   },
   "outputs": [],
   "source": [
    "# for item in outputs_list:\n",
    "def fill_preds(item):\n",
    "    outputs, inputs, offset_mapping, question, text_id, context = item\n",
    "    results = get_predictions(outputs, inputs, offset_mapping, context)\n",
    "    for result in results:\n",
    "        predictionstring = get_predictionstring(result)\n",
    "        if len(predictionstring) == 0:\n",
    "            continue\n",
    "        predictions_dict['id'].append(text_id)\n",
    "        predictions_dict['class'].append(question)\n",
    "        predictions_dict['predictionstring'].append(predictionstring)"
   ]
  },
  {
   "cell_type": "code",
   "execution_count": 21,
   "id": "28e49c00",
   "metadata": {
    "execution": {
     "iopub.execute_input": "2022-03-16T17:13:18.915279Z",
     "iopub.status.busy": "2022-03-16T17:13:18.912684Z",
     "iopub.status.idle": "2022-03-16T17:13:30.647022Z",
     "shell.execute_reply": "2022-03-16T17:13:30.646535Z"
    },
    "papermill": {
     "duration": 11.755465,
     "end_time": "2022-03-16T17:13:30.647158",
     "exception": false,
     "start_time": "2022-03-16T17:13:18.891693",
     "status": "completed"
    },
    "tags": []
   },
   "outputs": [
    {
     "name": "stdout",
     "output_type": "stream",
     "text": [
      "huggingface/tokenizers: The current process just got forked, after parallelism has already been used. Disabling parallelism to avoid deadlocks...\n",
      "To disable this warning, you can either:\n",
      "\t- Avoid using `tokenizers` before the fork if possible\n",
      "\t- Explicitly set the environment variable TOKENIZERS_PARALLELISM=(true | false)\n",
      "huggingface/tokenizers: The current process just got forked, after parallelism has already been used. Disabling parallelism to avoid deadlocks...\n",
      "To disable this warning, you can either:\n",
      "\t- Avoid using `tokenizers` before the fork if possible\n",
      "\t- Explicitly set the environment variable TOKENIZERS_PARALLELISM=(true | false)\n",
      "huggingface/tokenizers: The current process just got forked, after parallelism has already been used. Disabling parallelism to avoid deadlocks...\n",
      "To disable this warning, you can either:\n",
      "\t- Avoid using `tokenizers` before the fork if possible\n",
      "\t- Explicitly set the environment variable TOKENIZERS_PARALLELISM=(true | false)\n",
      "huggingface/tokenizers: The current process just got forked, after parallelism has already been used. Disabling parallelism to avoid deadlocks...\n",
      "To disable this warning, you can either:\n",
      "\t- Avoid using `tokenizers` before the fork if possible\n",
      "\t- Explicitly set the environment variable TOKENIZERS_PARALLELISM=(true | false)\n",
      "huggingface/tokenizers: The current process just got forked, after parallelism has already been used. Disabling parallelism to avoid deadlocks...\n",
      "To disable this warning, you can either:\n",
      "\t- Avoid using `tokenizers` before the fork if possible\n",
      "\t- Explicitly set the environment variable TOKENIZERS_PARALLELISM=(true | false)\n"
     ]
    },
    {
     "data": {
      "text/plain": [
       "[None,\n",
       " None,\n",
       " None,\n",
       " None,\n",
       " None,\n",
       " None,\n",
       " None,\n",
       " None,\n",
       " None,\n",
       " None,\n",
       " None,\n",
       " None,\n",
       " None,\n",
       " None,\n",
       " None,\n",
       " None,\n",
       " None,\n",
       " None,\n",
       " None,\n",
       " None,\n",
       " None,\n",
       " None,\n",
       " None,\n",
       " None,\n",
       " None,\n",
       " None,\n",
       " None,\n",
       " None,\n",
       " None,\n",
       " None,\n",
       " None,\n",
       " None,\n",
       " None,\n",
       " None,\n",
       " None]"
      ]
     },
     "execution_count": 21,
     "metadata": {},
     "output_type": "execute_result"
    }
   ],
   "source": [
    "from joblib import Parallel, delayed\n",
    "Parallel(n_jobs=4)(delayed(fill_preds)(item) for item in outputs_list)"
   ]
  },
  {
   "cell_type": "code",
   "execution_count": 22,
   "id": "748fc66f",
   "metadata": {
    "execution": {
     "iopub.execute_input": "2022-03-16T17:13:30.691045Z",
     "iopub.status.busy": "2022-03-16T17:13:30.690511Z",
     "iopub.status.idle": "2022-03-16T17:13:30.694177Z",
     "shell.execute_reply": "2022-03-16T17:13:30.693726Z",
     "shell.execute_reply.started": "2022-03-12T14:22:22.240758Z"
    },
    "papermill": {
     "duration": 0.027318,
     "end_time": "2022-03-16T17:13:30.694287",
     "exception": false,
     "start_time": "2022-03-16T17:13:30.666969",
     "status": "completed"
    },
    "tags": []
   },
   "outputs": [],
   "source": [
    "sub = pd.DataFrame.from_dict(predictions_dict)"
   ]
  },
  {
   "cell_type": "code",
   "execution_count": 23,
   "id": "72dfe7d0",
   "metadata": {
    "execution": {
     "iopub.execute_input": "2022-03-16T17:13:30.736692Z",
     "iopub.status.busy": "2022-03-16T17:13:30.735932Z",
     "iopub.status.idle": "2022-03-16T17:13:30.741322Z",
     "shell.execute_reply": "2022-03-16T17:13:30.740890Z",
     "shell.execute_reply.started": "2022-03-12T14:22:22.243525Z"
    },
    "papermill": {
     "duration": 0.028092,
     "end_time": "2022-03-16T17:13:30.741424",
     "exception": false,
     "start_time": "2022-03-16T17:13:30.713332",
     "status": "completed"
    },
    "tags": []
   },
   "outputs": [],
   "source": [
    "sub.to_csv(\"submission.csv\", index = False)"
   ]
  }
 ],
 "metadata": {
  "kernelspec": {
   "display_name": "Python 3",
   "language": "python",
   "name": "python3"
  },
  "language_info": {
   "codemirror_mode": {
    "name": "ipython",
    "version": 3
   },
   "file_extension": ".py",
   "mimetype": "text/x-python",
   "name": "python",
   "nbconvert_exporter": "python",
   "pygments_lexer": "ipython3",
   "version": "3.7.12"
  },
  "papermill": {
   "default_parameters": {},
   "duration": 81.35886,
   "end_time": "2022-03-16T17:13:33.941128",
   "environment_variables": {},
   "exception": null,
   "input_path": "__notebook__.ipynb",
   "output_path": "__notebook__.ipynb",
   "parameters": {},
   "start_time": "2022-03-16T17:12:12.582268",
   "version": "2.3.3"
  }
 },
 "nbformat": 4,
 "nbformat_minor": 5
}
