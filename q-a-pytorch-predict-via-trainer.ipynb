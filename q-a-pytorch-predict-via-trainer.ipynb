{
 "cells": [
  {
   "cell_type": "code",
   "execution_count": 1,
   "id": "220408d4",
   "metadata": {
    "execution": {
     "iopub.execute_input": "2022-03-16T17:16:07.461524Z",
     "iopub.status.busy": "2022-03-16T17:16:07.459962Z",
     "iopub.status.idle": "2022-03-16T17:16:07.470494Z",
     "shell.execute_reply": "2022-03-16T17:16:07.469930Z",
     "shell.execute_reply.started": "2022-03-15T07:41:23.545368Z"
    },
    "papermill": {
     "duration": 0.033647,
     "end_time": "2022-03-16T17:16:07.470643",
     "exception": false,
     "start_time": "2022-03-16T17:16:07.436996",
     "status": "completed"
    },
    "tags": []
   },
   "outputs": [],
   "source": [
    "import os"
   ]
  },
  {
   "cell_type": "code",
   "execution_count": 2,
   "id": "2eeaf45b",
   "metadata": {
    "execution": {
     "iopub.execute_input": "2022-03-16T17:16:07.512716Z",
     "iopub.status.busy": "2022-03-16T17:16:07.512072Z",
     "iopub.status.idle": "2022-03-16T17:16:09.372529Z",
     "shell.execute_reply": "2022-03-16T17:16:09.372061Z",
     "shell.execute_reply.started": "2022-03-15T07:41:23.580568Z"
    },
    "papermill": {
     "duration": 1.882538,
     "end_time": "2022-03-16T17:16:09.372654",
     "exception": false,
     "start_time": "2022-03-16T17:16:07.490116",
     "status": "completed"
    },
    "tags": []
   },
   "outputs": [],
   "source": [
    "from datasets import get_dataset_config_names, load_dataset"
   ]
  },
  {
   "cell_type": "code",
   "execution_count": 3,
   "id": "f8d4d933",
   "metadata": {
    "execution": {
     "iopub.execute_input": "2022-03-16T17:16:09.413333Z",
     "iopub.status.busy": "2022-03-16T17:16:09.411795Z",
     "iopub.status.idle": "2022-03-16T17:16:09.413933Z",
     "shell.execute_reply": "2022-03-16T17:16:09.414335Z",
     "shell.execute_reply.started": "2022-03-15T07:41:25.431362Z"
    },
    "papermill": {
     "duration": 0.023885,
     "end_time": "2022-03-16T17:16:09.414454",
     "exception": false,
     "start_time": "2022-03-16T17:16:09.390569",
     "status": "completed"
    },
    "tags": []
   },
   "outputs": [],
   "source": [
    "qa_cols = [\"title\", \"question\", \"answers.text\",\n",
    "           \"answers.answer_start\", \"context\"]"
   ]
  },
  {
   "cell_type": "code",
   "execution_count": 4,
   "id": "022b91fe",
   "metadata": {
    "execution": {
     "iopub.execute_input": "2022-03-16T17:16:09.453957Z",
     "iopub.status.busy": "2022-03-16T17:16:09.453223Z",
     "iopub.status.idle": "2022-03-16T17:16:18.166144Z",
     "shell.execute_reply": "2022-03-16T17:16:18.166569Z",
     "shell.execute_reply.started": "2022-03-15T07:41:25.437475Z"
    },
    "papermill": {
     "duration": 8.734637,
     "end_time": "2022-03-16T17:16:18.166731",
     "exception": false,
     "start_time": "2022-03-16T17:16:09.432094",
     "status": "completed"
    },
    "tags": []
   },
   "outputs": [],
   "source": [
    "import pandas as pd, numpy as np\n",
    "import matplotlib.pyplot as plt\n",
    "os.environ['TF_CPP_MIN_LOG_LEVEL'] = '3'\n",
    "from transformers import *"
   ]
  },
  {
   "cell_type": "markdown",
   "id": "50e09e31",
   "metadata": {
    "papermill": {
     "duration": 0.017554,
     "end_time": "2022-03-16T17:16:18.202103",
     "exception": false,
     "start_time": "2022-03-16T17:16:18.184549",
     "status": "completed"
    },
    "tags": []
   },
   "source": [
    "# Load Test"
   ]
  },
  {
   "cell_type": "code",
   "execution_count": 5,
   "id": "476122f0",
   "metadata": {
    "execution": {
     "iopub.execute_input": "2022-03-16T17:16:18.242811Z",
     "iopub.status.busy": "2022-03-16T17:16:18.242259Z",
     "iopub.status.idle": "2022-03-16T17:16:18.264959Z",
     "shell.execute_reply": "2022-03-16T17:16:18.264514Z",
     "shell.execute_reply.started": "2022-03-15T07:41:34.154596Z"
    },
    "papermill": {
     "duration": 0.045772,
     "end_time": "2022-03-16T17:16:18.265072",
     "exception": false,
     "start_time": "2022-03-16T17:16:18.219300",
     "status": "completed"
    },
    "tags": []
   },
   "outputs": [],
   "source": [
    "# https://www.kaggle.com/raghavendrakotala/fine-tunned-on-roberta-base-as-ner-problem-0-533\n",
    "test_names, test = [], []\n",
    "for f in list(os.listdir('../input/feedback-prize-2021/test')):\n",
    "    test_names.append(f.replace('.txt', ''))\n",
    "    test.append(open('../input/feedback-prize-2021/test/' + f, 'r').read())\n",
    "test = pd.DataFrame({'id': test_names, 'text': test})"
   ]
  },
  {
   "cell_type": "code",
   "execution_count": 6,
   "id": "ec2756ff",
   "metadata": {
    "execution": {
     "iopub.execute_input": "2022-03-16T17:16:18.305736Z",
     "iopub.status.busy": "2022-03-16T17:16:18.304173Z",
     "iopub.status.idle": "2022-03-16T17:16:18.306344Z",
     "shell.execute_reply": "2022-03-16T17:16:18.306729Z",
     "shell.execute_reply.started": "2022-03-15T07:41:34.192544Z"
    },
    "papermill": {
     "duration": 0.02369,
     "end_time": "2022-03-16T17:16:18.306879",
     "exception": false,
     "start_time": "2022-03-16T17:16:18.283189",
     "status": "completed"
    },
    "tags": []
   },
   "outputs": [],
   "source": [
    "test.columns = [\"id\", \"context\"]"
   ]
  },
  {
   "cell_type": "code",
   "execution_count": 7,
   "id": "10be3726",
   "metadata": {
    "execution": {
     "iopub.execute_input": "2022-03-16T17:16:18.346256Z",
     "iopub.status.busy": "2022-03-16T17:16:18.344747Z",
     "iopub.status.idle": "2022-03-16T17:16:18.346863Z",
     "shell.execute_reply": "2022-03-16T17:16:18.347264Z",
     "shell.execute_reply.started": "2022-03-15T07:41:34.207592Z"
    },
    "papermill": {
     "duration": 0.023069,
     "end_time": "2022-03-16T17:16:18.347388",
     "exception": false,
     "start_time": "2022-03-16T17:16:18.324319",
     "status": "completed"
    },
    "tags": []
   },
   "outputs": [],
   "source": [
    "labels = ['Lead', 'Position', 'Evidence', 'Claim', 'Concluding Statement',\n",
    "             'Counterclaim', 'Rebuttal']"
   ]
  },
  {
   "cell_type": "code",
   "execution_count": 8,
   "id": "178ce3b3",
   "metadata": {
    "execution": {
     "iopub.execute_input": "2022-03-16T17:16:18.404090Z",
     "iopub.status.busy": "2022-03-16T17:16:18.403463Z",
     "iopub.status.idle": "2022-03-16T17:16:18.464453Z",
     "shell.execute_reply": "2022-03-16T17:16:18.464002Z",
     "shell.execute_reply.started": "2022-03-15T07:41:34.218549Z"
    },
    "papermill": {
     "duration": 0.099878,
     "end_time": "2022-03-16T17:16:18.464562",
     "exception": false,
     "start_time": "2022-03-16T17:16:18.364684",
     "status": "completed"
    },
    "tags": []
   },
   "outputs": [],
   "source": [
    "test['question'] = [labels for row in range(test.shape[0])]\n",
    "test = test.explode('question')\n",
    "#model_ckpt = \"distilbert-base-cased-distilled-squad\"\n",
    "model_checkpoint = \"../input/q-a-pytorch/model.h5\"\n",
    "# model_checkpoint = \"distilbert-base-cased-distilled-squad\"\n",
    "config_model = \"../input/q-a-pytorch/model.h5/config.json\"\n",
    "tokenizer = AutoTokenizer.from_pretrained(model_checkpoint)"
   ]
  },
  {
   "cell_type": "code",
   "execution_count": 9,
   "id": "f554d316",
   "metadata": {
    "execution": {
     "iopub.execute_input": "2022-03-16T17:16:18.502253Z",
     "iopub.status.busy": "2022-03-16T17:16:18.501476Z",
     "iopub.status.idle": "2022-03-16T17:16:18.506119Z",
     "shell.execute_reply": "2022-03-16T17:16:18.505680Z",
     "shell.execute_reply.started": "2022-03-15T07:41:34.338892Z"
    },
    "papermill": {
     "duration": 0.024122,
     "end_time": "2022-03-16T17:16:18.506229",
     "exception": false,
     "start_time": "2022-03-16T17:16:18.482107",
     "status": "completed"
    },
    "tags": []
   },
   "outputs": [],
   "source": [
    "target_map = {'Lead':0, 'Position':1, 'Evidence':2, 'Claim':3, 'Concluding Statement':4,\n",
    "             'Counterclaim':5, 'Rebuttal':6}\n"
   ]
  },
  {
   "cell_type": "code",
   "execution_count": 10,
   "id": "905e4d66",
   "metadata": {
    "execution": {
     "iopub.execute_input": "2022-03-16T17:16:18.547603Z",
     "iopub.status.busy": "2022-03-16T17:16:18.546842Z",
     "iopub.status.idle": "2022-03-16T17:16:18.548664Z",
     "shell.execute_reply": "2022-03-16T17:16:18.549083Z",
     "shell.execute_reply.started": "2022-03-15T07:50:45.59117Z"
    },
    "papermill": {
     "duration": 0.025749,
     "end_time": "2022-03-16T17:16:18.549197",
     "exception": false,
     "start_time": "2022-03-16T17:16:18.523448",
     "status": "completed"
    },
    "tags": []
   },
   "outputs": [],
   "source": [
    "max_length = 512\n",
    "stride = 128\n",
    "def preprocess_examples(examples):\n",
    "    #strip removes leading and trailing whitespaces\n",
    "    questions = [q.strip() for q in examples[\"question\"]]\n",
    "    inputs = tokenizer(\n",
    "        questions,\n",
    "        examples[\"context\"],\n",
    "        max_length=max_length,\n",
    "        truncation=\"only_second\",\n",
    "        stride=stride,\n",
    "        return_overflowing_tokens=True,\n",
    "        return_offsets_mapping=True,\n",
    "        padding=\"max_length\",\n",
    "    )\n",
    "\n",
    "    sample_map = inputs.pop(\"overflow_to_sample_mapping\")\n",
    "    #offset_mapping = inputs.pop(\"offset_mapping\")\n",
    "    example_ids = []\n",
    "\n",
    "    for i in range(len(inputs[\"input_ids\"])):\n",
    "        sample_idx = sample_map[i]\n",
    "        example_ids.append(examples[\"id\"][sample_idx])\n",
    "\n",
    "        sequence_ids = inputs.sequence_ids(i)\n",
    "#         offset = inputs[\"offset_mapping\"][i]\n",
    "#         inputs[\"offset_mapping\"][i] = [\n",
    "#             o if sequence_ids[k] == 1 else None for k, o in enumerate(offset)\n",
    "#         ]\n",
    "\n",
    "    inputs[\"example_id\"] = example_ids\n",
    "    return inputs"
   ]
  },
  {
   "cell_type": "code",
   "execution_count": 11,
   "id": "72d0bc6a",
   "metadata": {
    "execution": {
     "iopub.execute_input": "2022-03-16T17:16:18.586513Z",
     "iopub.status.busy": "2022-03-16T17:16:18.585693Z",
     "iopub.status.idle": "2022-03-16T17:16:18.604824Z",
     "shell.execute_reply": "2022-03-16T17:16:18.604406Z",
     "shell.execute_reply.started": "2022-03-15T07:43:07.404743Z"
    },
    "papermill": {
     "duration": 0.038563,
     "end_time": "2022-03-16T17:16:18.604931",
     "exception": false,
     "start_time": "2022-03-16T17:16:18.566368",
     "status": "completed"
    },
    "tags": []
   },
   "outputs": [],
   "source": [
    "from datasets import Dataset\n",
    "dataset = Dataset.from_pandas(test)"
   ]
  },
  {
   "cell_type": "code",
   "execution_count": 12,
   "id": "44a83361",
   "metadata": {
    "execution": {
     "iopub.execute_input": "2022-03-16T17:16:18.645565Z",
     "iopub.status.busy": "2022-03-16T17:16:18.644928Z",
     "iopub.status.idle": "2022-03-16T17:16:18.648063Z",
     "shell.execute_reply": "2022-03-16T17:16:18.648469Z",
     "shell.execute_reply.started": "2022-03-15T07:43:07.682772Z"
    },
    "papermill": {
     "duration": 0.026524,
     "end_time": "2022-03-16T17:16:18.648584",
     "exception": false,
     "start_time": "2022-03-16T17:16:18.622060",
     "status": "completed"
    },
    "tags": []
   },
   "outputs": [
    {
     "data": {
      "text/plain": [
       "Dataset({\n",
       "    features: ['id', 'context', 'question', '__index_level_0__'],\n",
       "    num_rows: 35\n",
       "})"
      ]
     },
     "execution_count": 12,
     "metadata": {},
     "output_type": "execute_result"
    }
   ],
   "source": [
    "dataset"
   ]
  },
  {
   "cell_type": "code",
   "execution_count": 13,
   "id": "56a1be78",
   "metadata": {
    "execution": {
     "iopub.execute_input": "2022-03-16T17:16:18.698985Z",
     "iopub.status.busy": "2022-03-16T17:16:18.694934Z",
     "iopub.status.idle": "2022-03-16T17:16:19.377951Z",
     "shell.execute_reply": "2022-03-16T17:16:19.377466Z",
     "shell.execute_reply.started": "2022-03-15T07:50:53.76395Z"
    },
    "papermill": {
     "duration": 0.711441,
     "end_time": "2022-03-16T17:16:19.378083",
     "exception": false,
     "start_time": "2022-03-16T17:16:18.666642",
     "status": "completed"
    },
    "tags": []
   },
   "outputs": [
    {
     "data": {
      "application/vnd.jupyter.widget-view+json": {
       "model_id": "aad7bf32767d491a9215b98870d6a566",
       "version_major": 2,
       "version_minor": 0
      },
      "text/plain": [
       "  0%|          | 0/1 [00:00<?, ?ba/s]"
      ]
     },
     "metadata": {},
     "output_type": "display_data"
    }
   ],
   "source": [
    "train_dataset = dataset.map(\n",
    "    preprocess_examples,\n",
    "    batched=True,\n",
    "    remove_columns=dataset.column_names,\n",
    ")"
   ]
  },
  {
   "cell_type": "code",
   "execution_count": 14,
   "id": "a4a9ecea",
   "metadata": {
    "execution": {
     "iopub.execute_input": "2022-03-16T17:16:19.418205Z",
     "iopub.status.busy": "2022-03-16T17:16:19.417653Z",
     "iopub.status.idle": "2022-03-16T17:16:20.501098Z",
     "shell.execute_reply": "2022-03-16T17:16:20.500610Z",
     "shell.execute_reply.started": "2022-03-15T07:43:08.762113Z"
    },
    "papermill": {
     "duration": 1.10468,
     "end_time": "2022-03-16T17:16:20.501228",
     "exception": false,
     "start_time": "2022-03-16T17:16:19.396548",
     "status": "completed"
    },
    "tags": []
   },
   "outputs": [
    {
     "data": {
      "application/vnd.jupyter.widget-view+json": {
       "model_id": "a0765f1c344e45cdbf9daf11cd7a5bdf",
       "version_major": 2,
       "version_minor": 0
      },
      "text/plain": [
       "Downloading:   0%|          | 0.00/1.73k [00:00<?, ?B/s]"
      ]
     },
     "metadata": {},
     "output_type": "display_data"
    },
    {
     "data": {
      "application/vnd.jupyter.widget-view+json": {
       "model_id": "82cc188eee9148b6a6dbcbb0f05fa6f5",
       "version_major": 2,
       "version_minor": 0
      },
      "text/plain": [
       "Downloading:   0%|          | 0.00/1.12k [00:00<?, ?B/s]"
      ]
     },
     "metadata": {},
     "output_type": "display_data"
    }
   ],
   "source": [
    "from datasets import load_metric\n",
    "metric = load_metric(\"squad\")"
   ]
  },
  {
   "cell_type": "code",
   "execution_count": 15,
   "id": "b7ebc675",
   "metadata": {
    "execution": {
     "iopub.execute_input": "2022-03-16T17:16:20.581335Z",
     "iopub.status.busy": "2022-03-16T17:16:20.580553Z",
     "iopub.status.idle": "2022-03-16T17:16:20.582489Z",
     "shell.execute_reply": "2022-03-16T17:16:20.583167Z",
     "shell.execute_reply.started": "2022-03-15T07:43:09.480786Z"
    },
    "papermill": {
     "duration": 0.06241,
     "end_time": "2022-03-16T17:16:20.583308",
     "exception": false,
     "start_time": "2022-03-16T17:16:20.520898",
     "status": "completed"
    },
    "tags": []
   },
   "outputs": [],
   "source": [
    "import torch\n",
    "from transformers import AutoModelForQuestionAnswering\n",
    "\n",
    "device = torch.device(\"cuda\") if torch.cuda.is_available() else torch.device(\"cpu\")"
   ]
  },
  {
   "cell_type": "code",
   "execution_count": 16,
   "id": "dcdc6a21",
   "metadata": {
    "execution": {
     "iopub.execute_input": "2022-03-16T17:16:20.626491Z",
     "iopub.status.busy": "2022-03-16T17:16:20.625984Z",
     "iopub.status.idle": "2022-03-16T17:16:26.053365Z",
     "shell.execute_reply": "2022-03-16T17:16:26.052925Z",
     "shell.execute_reply.started": "2022-03-15T08:02:56.720404Z"
    },
    "papermill": {
     "duration": 5.4514,
     "end_time": "2022-03-16T17:16:26.053489",
     "exception": false,
     "start_time": "2022-03-16T17:16:20.602089",
     "status": "completed"
    },
    "tags": []
   },
   "outputs": [
    {
     "data": {
      "text/plain": [
       "DistilBertForQuestionAnswering(\n",
       "  (distilbert): DistilBertModel(\n",
       "    (embeddings): Embeddings(\n",
       "      (word_embeddings): Embedding(28996, 768, padding_idx=0)\n",
       "      (position_embeddings): Embedding(512, 768)\n",
       "      (LayerNorm): LayerNorm((768,), eps=1e-12, elementwise_affine=True)\n",
       "      (dropout): Dropout(p=0.1, inplace=False)\n",
       "    )\n",
       "    (transformer): Transformer(\n",
       "      (layer): ModuleList(\n",
       "        (0): TransformerBlock(\n",
       "          (attention): MultiHeadSelfAttention(\n",
       "            (dropout): Dropout(p=0.1, inplace=False)\n",
       "            (q_lin): Linear(in_features=768, out_features=768, bias=True)\n",
       "            (k_lin): Linear(in_features=768, out_features=768, bias=True)\n",
       "            (v_lin): Linear(in_features=768, out_features=768, bias=True)\n",
       "            (out_lin): Linear(in_features=768, out_features=768, bias=True)\n",
       "          )\n",
       "          (sa_layer_norm): LayerNorm((768,), eps=1e-12, elementwise_affine=True)\n",
       "          (ffn): FFN(\n",
       "            (dropout): Dropout(p=0.1, inplace=False)\n",
       "            (lin1): Linear(in_features=768, out_features=3072, bias=True)\n",
       "            (lin2): Linear(in_features=3072, out_features=768, bias=True)\n",
       "          )\n",
       "          (output_layer_norm): LayerNorm((768,), eps=1e-12, elementwise_affine=True)\n",
       "        )\n",
       "        (1): TransformerBlock(\n",
       "          (attention): MultiHeadSelfAttention(\n",
       "            (dropout): Dropout(p=0.1, inplace=False)\n",
       "            (q_lin): Linear(in_features=768, out_features=768, bias=True)\n",
       "            (k_lin): Linear(in_features=768, out_features=768, bias=True)\n",
       "            (v_lin): Linear(in_features=768, out_features=768, bias=True)\n",
       "            (out_lin): Linear(in_features=768, out_features=768, bias=True)\n",
       "          )\n",
       "          (sa_layer_norm): LayerNorm((768,), eps=1e-12, elementwise_affine=True)\n",
       "          (ffn): FFN(\n",
       "            (dropout): Dropout(p=0.1, inplace=False)\n",
       "            (lin1): Linear(in_features=768, out_features=3072, bias=True)\n",
       "            (lin2): Linear(in_features=3072, out_features=768, bias=True)\n",
       "          )\n",
       "          (output_layer_norm): LayerNorm((768,), eps=1e-12, elementwise_affine=True)\n",
       "        )\n",
       "        (2): TransformerBlock(\n",
       "          (attention): MultiHeadSelfAttention(\n",
       "            (dropout): Dropout(p=0.1, inplace=False)\n",
       "            (q_lin): Linear(in_features=768, out_features=768, bias=True)\n",
       "            (k_lin): Linear(in_features=768, out_features=768, bias=True)\n",
       "            (v_lin): Linear(in_features=768, out_features=768, bias=True)\n",
       "            (out_lin): Linear(in_features=768, out_features=768, bias=True)\n",
       "          )\n",
       "          (sa_layer_norm): LayerNorm((768,), eps=1e-12, elementwise_affine=True)\n",
       "          (ffn): FFN(\n",
       "            (dropout): Dropout(p=0.1, inplace=False)\n",
       "            (lin1): Linear(in_features=768, out_features=3072, bias=True)\n",
       "            (lin2): Linear(in_features=3072, out_features=768, bias=True)\n",
       "          )\n",
       "          (output_layer_norm): LayerNorm((768,), eps=1e-12, elementwise_affine=True)\n",
       "        )\n",
       "        (3): TransformerBlock(\n",
       "          (attention): MultiHeadSelfAttention(\n",
       "            (dropout): Dropout(p=0.1, inplace=False)\n",
       "            (q_lin): Linear(in_features=768, out_features=768, bias=True)\n",
       "            (k_lin): Linear(in_features=768, out_features=768, bias=True)\n",
       "            (v_lin): Linear(in_features=768, out_features=768, bias=True)\n",
       "            (out_lin): Linear(in_features=768, out_features=768, bias=True)\n",
       "          )\n",
       "          (sa_layer_norm): LayerNorm((768,), eps=1e-12, elementwise_affine=True)\n",
       "          (ffn): FFN(\n",
       "            (dropout): Dropout(p=0.1, inplace=False)\n",
       "            (lin1): Linear(in_features=768, out_features=3072, bias=True)\n",
       "            (lin2): Linear(in_features=3072, out_features=768, bias=True)\n",
       "          )\n",
       "          (output_layer_norm): LayerNorm((768,), eps=1e-12, elementwise_affine=True)\n",
       "        )\n",
       "        (4): TransformerBlock(\n",
       "          (attention): MultiHeadSelfAttention(\n",
       "            (dropout): Dropout(p=0.1, inplace=False)\n",
       "            (q_lin): Linear(in_features=768, out_features=768, bias=True)\n",
       "            (k_lin): Linear(in_features=768, out_features=768, bias=True)\n",
       "            (v_lin): Linear(in_features=768, out_features=768, bias=True)\n",
       "            (out_lin): Linear(in_features=768, out_features=768, bias=True)\n",
       "          )\n",
       "          (sa_layer_norm): LayerNorm((768,), eps=1e-12, elementwise_affine=True)\n",
       "          (ffn): FFN(\n",
       "            (dropout): Dropout(p=0.1, inplace=False)\n",
       "            (lin1): Linear(in_features=768, out_features=3072, bias=True)\n",
       "            (lin2): Linear(in_features=3072, out_features=768, bias=True)\n",
       "          )\n",
       "          (output_layer_norm): LayerNorm((768,), eps=1e-12, elementwise_affine=True)\n",
       "        )\n",
       "        (5): TransformerBlock(\n",
       "          (attention): MultiHeadSelfAttention(\n",
       "            (dropout): Dropout(p=0.1, inplace=False)\n",
       "            (q_lin): Linear(in_features=768, out_features=768, bias=True)\n",
       "            (k_lin): Linear(in_features=768, out_features=768, bias=True)\n",
       "            (v_lin): Linear(in_features=768, out_features=768, bias=True)\n",
       "            (out_lin): Linear(in_features=768, out_features=768, bias=True)\n",
       "          )\n",
       "          (sa_layer_norm): LayerNorm((768,), eps=1e-12, elementwise_affine=True)\n",
       "          (ffn): FFN(\n",
       "            (dropout): Dropout(p=0.1, inplace=False)\n",
       "            (lin1): Linear(in_features=768, out_features=3072, bias=True)\n",
       "            (lin2): Linear(in_features=3072, out_features=768, bias=True)\n",
       "          )\n",
       "          (output_layer_norm): LayerNorm((768,), eps=1e-12, elementwise_affine=True)\n",
       "        )\n",
       "      )\n",
       "    )\n",
       "  )\n",
       "  (qa_outputs): Linear(in_features=768, out_features=2, bias=True)\n",
       "  (dropout): Dropout(p=0.1, inplace=False)\n",
       ")"
      ]
     },
     "execution_count": 16,
     "metadata": {},
     "output_type": "execute_result"
    }
   ],
   "source": [
    "model = AutoModelForQuestionAnswering.from_pretrained(model_checkpoint)\n",
    "model.eval()"
   ]
  },
  {
   "cell_type": "code",
   "execution_count": 17,
   "id": "34791dfe",
   "metadata": {
    "execution": {
     "iopub.execute_input": "2022-03-16T17:16:26.097164Z",
     "iopub.status.busy": "2022-03-16T17:16:26.096573Z",
     "iopub.status.idle": "2022-03-16T17:16:26.102175Z",
     "shell.execute_reply": "2022-03-16T17:16:26.102585Z",
     "shell.execute_reply.started": "2022-03-15T07:43:12.219263Z"
    },
    "papermill": {
     "duration": 0.029621,
     "end_time": "2022-03-16T17:16:26.102705",
     "exception": false,
     "start_time": "2022-03-16T17:16:26.073084",
     "status": "completed"
    },
    "tags": []
   },
   "outputs": [],
   "source": [
    "from transformers import TrainingArguments\n",
    "\n",
    "args = TrainingArguments(\n",
    "    \"distilbert-base-cased-distilled-squad\",\n",
    "    evaluation_strategy=\"no\",\n",
    "    save_strategy=\"epoch\",\n",
    "    learning_rate=2e-5,\n",
    "    num_train_epochs=3,\n",
    "    weight_decay=0.01,\n",
    "    fp16=True,\n",
    "    push_to_hub=False,\n",
    ")"
   ]
  },
  {
   "cell_type": "code",
   "execution_count": 18,
   "id": "e56816a0",
   "metadata": {
    "execution": {
     "iopub.execute_input": "2022-03-16T17:16:26.144313Z",
     "iopub.status.busy": "2022-03-16T17:16:26.143544Z",
     "iopub.status.idle": "2022-03-16T17:16:30.797001Z",
     "shell.execute_reply": "2022-03-16T17:16:30.797715Z",
     "shell.execute_reply.started": "2022-03-15T07:43:12.235275Z"
    },
    "papermill": {
     "duration": 4.676003,
     "end_time": "2022-03-16T17:16:30.797933",
     "exception": false,
     "start_time": "2022-03-16T17:16:26.121930",
     "status": "completed"
    },
    "tags": []
   },
   "outputs": [
    {
     "name": "stderr",
     "output_type": "stream",
     "text": [
      "Using amp fp16 backend\n"
     ]
    }
   ],
   "source": [
    "from transformers import Trainer\n",
    "\n",
    "trainer = Trainer(\n",
    "    model=model,\n",
    "    args=args,\n",
    "    train_dataset=train_dataset,\n",
    "    tokenizer=tokenizer,\n",
    ")"
   ]
  },
  {
   "cell_type": "code",
   "execution_count": 19,
   "id": "dcf7fc21",
   "metadata": {
    "execution": {
     "iopub.execute_input": "2022-03-16T17:16:30.846033Z",
     "iopub.status.busy": "2022-03-16T17:16:30.845277Z",
     "iopub.status.idle": "2022-03-16T17:16:30.847660Z",
     "shell.execute_reply": "2022-03-16T17:16:30.847255Z",
     "shell.execute_reply.started": "2022-03-15T08:09:03.577834Z"
    },
    "papermill": {
     "duration": 0.02927,
     "end_time": "2022-03-16T17:16:30.847782",
     "exception": false,
     "start_time": "2022-03-16T17:16:30.818512",
     "status": "completed"
    },
    "tags": []
   },
   "outputs": [],
   "source": [
    "def get_predictions(start_logits, end_logits, offsets, context, question):\n",
    "\n",
    "    start_probabilities = torch.nn.functional.softmax(start_logits, dim=-1)\n",
    "    end_probabilities = torch.nn.functional.softmax(end_logits, dim=-1)\n",
    "    \n",
    "    candidates = []\n",
    "    scores = start_probabilities * end_probabilities\n",
    "    idx = scores.argmax().item()\n",
    "\n",
    "    start_idx = start_probabilities.argmax().item()\n",
    "    end_idx = end_probabilities.argmax().item()\n",
    "    score = scores[idx]\n",
    "    candidates.append((start_idx, end_idx, score))\n",
    "\n",
    "    #print(candidates)\n",
    "    results = []\n",
    "    for candidate, offset in zip(candidates, offsets):\n",
    "        start_token, end_token, score = candidate\n",
    "        start_char, _ = offset[start_token]\n",
    "        _, end_char = offset[end_token]\n",
    "        answer = context[start_char:end_char]\n",
    "        result = {\"answer\": answer, \"start\": start_char, \"end\": end_char, \"score\": score, \"question\": questions}\n",
    "        results.append(result)\n",
    "    return results"
   ]
  },
  {
   "cell_type": "code",
   "execution_count": 20,
   "id": "5c002976",
   "metadata": {
    "execution": {
     "iopub.execute_input": "2022-03-16T17:16:30.893222Z",
     "iopub.status.busy": "2022-03-16T17:16:30.892434Z",
     "iopub.status.idle": "2022-03-16T17:16:30.894495Z",
     "shell.execute_reply": "2022-03-16T17:16:30.894875Z",
     "shell.execute_reply.started": "2022-03-15T07:52:09.037049Z"
    },
    "papermill": {
     "duration": 0.027369,
     "end_time": "2022-03-16T17:16:30.894995",
     "exception": false,
     "start_time": "2022-03-16T17:16:30.867626",
     "status": "completed"
    },
    "tags": []
   },
   "outputs": [],
   "source": [
    "def get_predictionstring(result):\n",
    "    pred = result['answer']\n",
    "    if len(pred) == 0:\n",
    "        return \"\"\n",
    "    start = result['start']\n",
    "    end = result['end']\n",
    "    score = result['score']\n",
    "    start_index = len(context[:start].split())\n",
    "    end_index = start_index + len(pred.split())\n",
    "    predictionstring = \"\"\n",
    "    for i in range(start_index, end_index):\n",
    "        predictionstring += str(i) + \" \"\n",
    "    return predictionstring"
   ]
  },
  {
   "cell_type": "code",
   "execution_count": 21,
   "id": "7f47c097",
   "metadata": {
    "execution": {
     "iopub.execute_input": "2022-03-16T17:16:30.940792Z",
     "iopub.status.busy": "2022-03-16T17:16:30.940035Z",
     "iopub.status.idle": "2022-03-16T17:16:32.562367Z",
     "shell.execute_reply": "2022-03-16T17:16:32.561944Z",
     "shell.execute_reply.started": "2022-03-15T08:03:07.288137Z"
    },
    "papermill": {
     "duration": 1.648218,
     "end_time": "2022-03-16T17:16:32.562487",
     "exception": false,
     "start_time": "2022-03-16T17:16:30.914269",
     "status": "completed"
    },
    "tags": []
   },
   "outputs": [
    {
     "name": "stderr",
     "output_type": "stream",
     "text": [
      "The following columns in the test set  don't have a corresponding argument in `DistilBertForQuestionAnswering.forward` and have been ignored: example_id, offset_mapping.\n",
      "***** Running Prediction *****\n",
      "  Num examples = 70\n",
      "  Batch size = 8\n"
     ]
    },
    {
     "data": {
      "text/html": [
       "\n",
       "    <div>\n",
       "      \n",
       "      <progress value='9' max='9' style='width:300px; height:20px; vertical-align: middle;'></progress>\n",
       "      [9/9 00:00]\n",
       "    </div>\n",
       "    "
      ],
      "text/plain": [
       "<IPython.core.display.HTML object>"
      ]
     },
     "metadata": {},
     "output_type": "display_data"
    }
   ],
   "source": [
    "outputs = trainer.predict(train_dataset)"
   ]
  },
  {
   "cell_type": "code",
   "execution_count": 22,
   "id": "9ac6c1dd",
   "metadata": {
    "execution": {
     "iopub.execute_input": "2022-03-16T17:16:32.610870Z",
     "iopub.status.busy": "2022-03-16T17:16:32.610316Z",
     "iopub.status.idle": "2022-03-16T17:16:32.614331Z",
     "shell.execute_reply": "2022-03-16T17:16:32.615124Z",
     "shell.execute_reply.started": "2022-03-15T08:03:13.126098Z"
    },
    "papermill": {
     "duration": 0.031273,
     "end_time": "2022-03-16T17:16:32.615253",
     "exception": false,
     "start_time": "2022-03-16T17:16:32.583980",
     "status": "completed"
    },
    "tags": []
   },
   "outputs": [
    {
     "data": {
      "text/plain": [
       "(array([[  2.324 ,   0.618 ,  -0.7573, ...,  -7.69  ,  -9.664 ,  -0.7573],\n",
       "        [ 10.016 ,  -5.242 ,   0.4333, ..., -11.06  , -11.055 , -11.    ],\n",
       "        [  3.164 ,  -4.562 ,  -5.438 , ...,  -9.375 ,  -8.75  ,  -4.055 ],\n",
       "        ...,\n",
       "        [ -7.004 , -10.55  , -11.09  , ..., -12.266 , -12.23  , -12.22  ],\n",
       "        [ -7.535 , -10.266 , -10.98  , ..., -11.44  , -11.47  , -11.4   ],\n",
       "        [ -8.66  , -10.016 , -10.01  , ..., -11.28  , -11.26  , -11.21  ]],\n",
       "       dtype=float16),\n",
       " array([[  1.756  ,  -3.951  ,  -0.01736, ...,  -9.266  ,  -6.363  ,\n",
       "          -0.01733],\n",
       "        [ 10.45   ,  -7.254  ,  -3.514  , ..., -11.51   , -11.49   ,\n",
       "         -11.555  ],\n",
       "        [  2.584  ,  -8.43   ,  -8.55   , ...,  -6.11   ,  -8.945  ,\n",
       "          -1.827  ],\n",
       "        ...,\n",
       "        [ -4.52   , -10.85   , -10.53   , ..., -10.65   , -10.75   ,\n",
       "         -10.766  ],\n",
       "        [ -6.723  ,  -8.66   ,  -8.63   , ..., -11.37   , -11.37   ,\n",
       "         -11.42   ],\n",
       "        [ -8.586  , -10.52   , -10.57   , ..., -11.51   , -11.51   ,\n",
       "         -11.56   ]], dtype=float16))"
      ]
     },
     "execution_count": 22,
     "metadata": {},
     "output_type": "execute_result"
    }
   ],
   "source": [
    "outputs.predictions"
   ]
  },
  {
   "cell_type": "code",
   "execution_count": 23,
   "id": "cd62cc3c",
   "metadata": {
    "execution": {
     "iopub.execute_input": "2022-03-16T17:16:32.662502Z",
     "iopub.status.busy": "2022-03-16T17:16:32.661737Z",
     "iopub.status.idle": "2022-03-16T17:16:32.664166Z",
     "shell.execute_reply": "2022-03-16T17:16:32.663703Z",
     "shell.execute_reply.started": "2022-03-15T07:51:01.69813Z"
    },
    "papermill": {
     "duration": 0.02766,
     "end_time": "2022-03-16T17:16:32.664267",
     "exception": false,
     "start_time": "2022-03-16T17:16:32.636607",
     "status": "completed"
    },
    "tags": []
   },
   "outputs": [],
   "source": [
    "from torch.utils.data import DataLoader\n",
    "# from transformers import default_data_collator\n",
    "dataloader = DataLoader(dataset, batch_size = 1)\n",
    "tokenized_loader = DataLoader(train_dataset, batch_size = 1)"
   ]
  },
  {
   "cell_type": "code",
   "execution_count": 24,
   "id": "b2cb1652",
   "metadata": {
    "execution": {
     "iopub.execute_input": "2022-03-16T17:16:32.710728Z",
     "iopub.status.busy": "2022-03-16T17:16:32.709986Z",
     "iopub.status.idle": "2022-03-16T17:16:32.712441Z",
     "shell.execute_reply": "2022-03-16T17:16:32.711948Z",
     "shell.execute_reply.started": "2022-03-15T08:09:10.307928Z"
    },
    "papermill": {
     "duration": 0.026961,
     "end_time": "2022-03-16T17:16:32.712542",
     "exception": false,
     "start_time": "2022-03-16T17:16:32.685581",
     "status": "completed"
    },
    "tags": []
   },
   "outputs": [],
   "source": [
    "# index = 0\n",
    "# for batch, t_batch in zip(dataloader, tokenized_loader):\n",
    "#     question = batch['question']\n",
    "#     context = batch['context']\n",
    "#     text_id = batch['id']\n",
    "#     inputs, offset_mapping = t_batch[\"input_ids\"], t_batch[\"offset_mapping\"]\n",
    "#     start_logits, end_logits = torch.Tensor(outputs.predictions[0][index]), torch.Tensor(outputs.predictions[1][index])\n",
    "#     results = get_predictions(start_logits, end_logits, inputs, offset_mapping, context)"
   ]
  },
  {
   "cell_type": "code",
   "execution_count": null,
   "id": "f5a08cd4",
   "metadata": {
    "papermill": {
     "duration": 0.021489,
     "end_time": "2022-03-16T17:16:32.755590",
     "exception": false,
     "start_time": "2022-03-16T17:16:32.734101",
     "status": "completed"
    },
    "tags": []
   },
   "outputs": [],
   "source": []
  }
 ],
 "metadata": {
  "kernelspec": {
   "display_name": "Python 3",
   "language": "python",
   "name": "python3"
  },
  "language_info": {
   "codemirror_mode": {
    "name": "ipython",
    "version": 3
   },
   "file_extension": ".py",
   "mimetype": "text/x-python",
   "name": "python",
   "nbconvert_exporter": "python",
   "pygments_lexer": "ipython3",
   "version": "3.7.12"
  },
  "papermill": {
   "default_parameters": {},
   "duration": 36.296701,
   "end_time": "2022-03-16T17:16:35.756706",
   "environment_variables": {},
   "exception": null,
   "input_path": "__notebook__.ipynb",
   "output_path": "__notebook__.ipynb",
   "parameters": {},
   "start_time": "2022-03-16T17:15:59.460005",
   "version": "2.3.3"
  },
  "widgets": {
   "application/vnd.jupyter.widget-state+json": {
    "state": {
     "000a3c5e827f4050ac9b26d2e1852348": {
      "model_module": "@jupyter-widgets/controls",
      "model_module_version": "1.5.0",
      "model_name": "HTMLModel",
      "state": {
       "_dom_classes": [],
       "_model_module": "@jupyter-widgets/controls",
       "_model_module_version": "1.5.0",
       "_model_name": "HTMLModel",
       "_view_count": null,
       "_view_module": "@jupyter-widgets/controls",
       "_view_module_version": "1.5.0",
       "_view_name": "HTMLView",
       "description": "",
       "description_tooltip": null,
       "layout": "IPY_MODEL_269144da2940440a926c6c307aec52dc",
       "placeholder": "​",
       "style": "IPY_MODEL_3eeecf503de1468baf5a7177b9cd427c",
       "value": "Downloading: "
      }
     },
     "110199227d054634a6a85f460335e22f": {
      "model_module": "@jupyter-widgets/controls",
      "model_module_version": "1.5.0",
      "model_name": "DescriptionStyleModel",
      "state": {
       "_model_module": "@jupyter-widgets/controls",
       "_model_module_version": "1.5.0",
       "_model_name": "DescriptionStyleModel",
       "_view_count": null,
       "_view_module": "@jupyter-widgets/base",
       "_view_module_version": "1.2.0",
       "_view_name": "StyleView",
       "description_width": ""
      }
     },
     "23cd08a4c7334308855a5bf2c57e5da0": {
      "model_module": "@jupyter-widgets/base",
      "model_module_version": "1.2.0",
      "model_name": "LayoutModel",
      "state": {
       "_model_module": "@jupyter-widgets/base",
       "_model_module_version": "1.2.0",
       "_model_name": "LayoutModel",
       "_view_count": null,
       "_view_module": "@jupyter-widgets/base",
       "_view_module_version": "1.2.0",
       "_view_name": "LayoutView",
       "align_content": null,
       "align_items": null,
       "align_self": null,
       "border": null,
       "bottom": null,
       "display": null,
       "flex": null,
       "flex_flow": null,
       "grid_area": null,
       "grid_auto_columns": null,
       "grid_auto_flow": null,
       "grid_auto_rows": null,
       "grid_column": null,
       "grid_gap": null,
       "grid_row": null,
       "grid_template_areas": null,
       "grid_template_columns": null,
       "grid_template_rows": null,
       "height": null,
       "justify_content": null,
       "justify_items": null,
       "left": null,
       "margin": null,
       "max_height": null,
       "max_width": null,
       "min_height": null,
       "min_width": null,
       "object_fit": null,
       "object_position": null,
       "order": null,
       "overflow": null,
       "overflow_x": null,
       "overflow_y": null,
       "padding": null,
       "right": null,
       "top": null,
       "visibility": null,
       "width": null
      }
     },
     "256c6d7e06204f01bde155c1eda43cca": {
      "model_module": "@jupyter-widgets/base",
      "model_module_version": "1.2.0",
      "model_name": "LayoutModel",
      "state": {
       "_model_module": "@jupyter-widgets/base",
       "_model_module_version": "1.2.0",
       "_model_name": "LayoutModel",
       "_view_count": null,
       "_view_module": "@jupyter-widgets/base",
       "_view_module_version": "1.2.0",
       "_view_name": "LayoutView",
       "align_content": null,
       "align_items": null,
       "align_self": null,
       "border": null,
       "bottom": null,
       "display": null,
       "flex": null,
       "flex_flow": null,
       "grid_area": null,
       "grid_auto_columns": null,
       "grid_auto_flow": null,
       "grid_auto_rows": null,
       "grid_column": null,
       "grid_gap": null,
       "grid_row": null,
       "grid_template_areas": null,
       "grid_template_columns": null,
       "grid_template_rows": null,
       "height": null,
       "justify_content": null,
       "justify_items": null,
       "left": null,
       "margin": null,
       "max_height": null,
       "max_width": null,
       "min_height": null,
       "min_width": null,
       "object_fit": null,
       "object_position": null,
       "order": null,
       "overflow": null,
       "overflow_x": null,
       "overflow_y": null,
       "padding": null,
       "right": null,
       "top": null,
       "visibility": null,
       "width": null
      }
     },
     "269144da2940440a926c6c307aec52dc": {
      "model_module": "@jupyter-widgets/base",
      "model_module_version": "1.2.0",
      "model_name": "LayoutModel",
      "state": {
       "_model_module": "@jupyter-widgets/base",
       "_model_module_version": "1.2.0",
       "_model_name": "LayoutModel",
       "_view_count": null,
       "_view_module": "@jupyter-widgets/base",
       "_view_module_version": "1.2.0",
       "_view_name": "LayoutView",
       "align_content": null,
       "align_items": null,
       "align_self": null,
       "border": null,
       "bottom": null,
       "display": null,
       "flex": null,
       "flex_flow": null,
       "grid_area": null,
       "grid_auto_columns": null,
       "grid_auto_flow": null,
       "grid_auto_rows": null,
       "grid_column": null,
       "grid_gap": null,
       "grid_row": null,
       "grid_template_areas": null,
       "grid_template_columns": null,
       "grid_template_rows": null,
       "height": null,
       "justify_content": null,
       "justify_items": null,
       "left": null,
       "margin": null,
       "max_height": null,
       "max_width": null,
       "min_height": null,
       "min_width": null,
       "object_fit": null,
       "object_position": null,
       "order": null,
       "overflow": null,
       "overflow_x": null,
       "overflow_y": null,
       "padding": null,
       "right": null,
       "top": null,
       "visibility": null,
       "width": null
      }
     },
     "29b8d62892b842a6bbc11c3548cdb882": {
      "model_module": "@jupyter-widgets/base",
      "model_module_version": "1.2.0",
      "model_name": "LayoutModel",
      "state": {
       "_model_module": "@jupyter-widgets/base",
       "_model_module_version": "1.2.0",
       "_model_name": "LayoutModel",
       "_view_count": null,
       "_view_module": "@jupyter-widgets/base",
       "_view_module_version": "1.2.0",
       "_view_name": "LayoutView",
       "align_content": null,
       "align_items": null,
       "align_self": null,
       "border": null,
       "bottom": null,
       "display": null,
       "flex": null,
       "flex_flow": null,
       "grid_area": null,
       "grid_auto_columns": null,
       "grid_auto_flow": null,
       "grid_auto_rows": null,
       "grid_column": null,
       "grid_gap": null,
       "grid_row": null,
       "grid_template_areas": null,
       "grid_template_columns": null,
       "grid_template_rows": null,
       "height": null,
       "justify_content": null,
       "justify_items": null,
       "left": null,
       "margin": null,
       "max_height": null,
       "max_width": null,
       "min_height": null,
       "min_width": null,
       "object_fit": null,
       "object_position": null,
       "order": null,
       "overflow": null,
       "overflow_x": null,
       "overflow_y": null,
       "padding": null,
       "right": null,
       "top": null,
       "visibility": null,
       "width": null
      }
     },
     "3aa3a4f6a99c44379febb10f504615e2": {
      "model_module": "@jupyter-widgets/base",
      "model_module_version": "1.2.0",
      "model_name": "LayoutModel",
      "state": {
       "_model_module": "@jupyter-widgets/base",
       "_model_module_version": "1.2.0",
       "_model_name": "LayoutModel",
       "_view_count": null,
       "_view_module": "@jupyter-widgets/base",
       "_view_module_version": "1.2.0",
       "_view_name": "LayoutView",
       "align_content": null,
       "align_items": null,
       "align_self": null,
       "border": null,
       "bottom": null,
       "display": null,
       "flex": null,
       "flex_flow": null,
       "grid_area": null,
       "grid_auto_columns": null,
       "grid_auto_flow": null,
       "grid_auto_rows": null,
       "grid_column": null,
       "grid_gap": null,
       "grid_row": null,
       "grid_template_areas": null,
       "grid_template_columns": null,
       "grid_template_rows": null,
       "height": null,
       "justify_content": null,
       "justify_items": null,
       "left": null,
       "margin": null,
       "max_height": null,
       "max_width": null,
       "min_height": null,
       "min_width": null,
       "object_fit": null,
       "object_position": null,
       "order": null,
       "overflow": null,
       "overflow_x": null,
       "overflow_y": null,
       "padding": null,
       "right": null,
       "top": null,
       "visibility": null,
       "width": null
      }
     },
     "3bc5d5c1023846debee1be5440c5cf96": {
      "model_module": "@jupyter-widgets/base",
      "model_module_version": "1.2.0",
      "model_name": "LayoutModel",
      "state": {
       "_model_module": "@jupyter-widgets/base",
       "_model_module_version": "1.2.0",
       "_model_name": "LayoutModel",
       "_view_count": null,
       "_view_module": "@jupyter-widgets/base",
       "_view_module_version": "1.2.0",
       "_view_name": "LayoutView",
       "align_content": null,
       "align_items": null,
       "align_self": null,
       "border": null,
       "bottom": null,
       "display": null,
       "flex": null,
       "flex_flow": null,
       "grid_area": null,
       "grid_auto_columns": null,
       "grid_auto_flow": null,
       "grid_auto_rows": null,
       "grid_column": null,
       "grid_gap": null,
       "grid_row": null,
       "grid_template_areas": null,
       "grid_template_columns": null,
       "grid_template_rows": null,
       "height": null,
       "justify_content": null,
       "justify_items": null,
       "left": null,
       "margin": null,
       "max_height": null,
       "max_width": null,
       "min_height": null,
       "min_width": null,
       "object_fit": null,
       "object_position": null,
       "order": null,
       "overflow": null,
       "overflow_x": null,
       "overflow_y": null,
       "padding": null,
       "right": null,
       "top": null,
       "visibility": null,
       "width": null
      }
     },
     "3eeecf503de1468baf5a7177b9cd427c": {
      "model_module": "@jupyter-widgets/controls",
      "model_module_version": "1.5.0",
      "model_name": "DescriptionStyleModel",
      "state": {
       "_model_module": "@jupyter-widgets/controls",
       "_model_module_version": "1.5.0",
       "_model_name": "DescriptionStyleModel",
       "_view_count": null,
       "_view_module": "@jupyter-widgets/base",
       "_view_module_version": "1.2.0",
       "_view_name": "StyleView",
       "description_width": ""
      }
     },
     "47141e0fb11e43dd826d65649ddf9eb1": {
      "model_module": "@jupyter-widgets/controls",
      "model_module_version": "1.5.0",
      "model_name": "HTMLModel",
      "state": {
       "_dom_classes": [],
       "_model_module": "@jupyter-widgets/controls",
       "_model_module_version": "1.5.0",
       "_model_name": "HTMLModel",
       "_view_count": null,
       "_view_module": "@jupyter-widgets/controls",
       "_view_module_version": "1.5.0",
       "_view_name": "HTMLView",
       "description": "",
       "description_tooltip": null,
       "layout": "IPY_MODEL_5d2ef3c3c5e842df9789055d1175deb8",
       "placeholder": "​",
       "style": "IPY_MODEL_529254bfb2f24c55b11dd5f5557e82b5",
       "value": " 3.31k/? [00:00&lt;00:00, 135kB/s]"
      }
     },
     "4c5df70705c44d54a0633e5995f70b04": {
      "model_module": "@jupyter-widgets/base",
      "model_module_version": "1.2.0",
      "model_name": "LayoutModel",
      "state": {
       "_model_module": "@jupyter-widgets/base",
       "_model_module_version": "1.2.0",
       "_model_name": "LayoutModel",
       "_view_count": null,
       "_view_module": "@jupyter-widgets/base",
       "_view_module_version": "1.2.0",
       "_view_name": "LayoutView",
       "align_content": null,
       "align_items": null,
       "align_self": null,
       "border": null,
       "bottom": null,
       "display": null,
       "flex": null,
       "flex_flow": null,
       "grid_area": null,
       "grid_auto_columns": null,
       "grid_auto_flow": null,
       "grid_auto_rows": null,
       "grid_column": null,
       "grid_gap": null,
       "grid_row": null,
       "grid_template_areas": null,
       "grid_template_columns": null,
       "grid_template_rows": null,
       "height": null,
       "justify_content": null,
       "justify_items": null,
       "left": null,
       "margin": null,
       "max_height": null,
       "max_width": null,
       "min_height": null,
       "min_width": null,
       "object_fit": null,
       "object_position": null,
       "order": null,
       "overflow": null,
       "overflow_x": null,
       "overflow_y": null,
       "padding": null,
       "right": null,
       "top": null,
       "visibility": null,
       "width": null
      }
     },
     "529254bfb2f24c55b11dd5f5557e82b5": {
      "model_module": "@jupyter-widgets/controls",
      "model_module_version": "1.5.0",
      "model_name": "DescriptionStyleModel",
      "state": {
       "_model_module": "@jupyter-widgets/controls",
       "_model_module_version": "1.5.0",
       "_model_name": "DescriptionStyleModel",
       "_view_count": null,
       "_view_module": "@jupyter-widgets/base",
       "_view_module_version": "1.2.0",
       "_view_name": "StyleView",
       "description_width": ""
      }
     },
     "59ec226a90c5424895d6df104d517388": {
      "model_module": "@jupyter-widgets/controls",
      "model_module_version": "1.5.0",
      "model_name": "ProgressStyleModel",
      "state": {
       "_model_module": "@jupyter-widgets/controls",
       "_model_module_version": "1.5.0",
       "_model_name": "ProgressStyleModel",
       "_view_count": null,
       "_view_module": "@jupyter-widgets/base",
       "_view_module_version": "1.2.0",
       "_view_name": "StyleView",
       "bar_color": null,
       "description_width": ""
      }
     },
     "5d2ef3c3c5e842df9789055d1175deb8": {
      "model_module": "@jupyter-widgets/base",
      "model_module_version": "1.2.0",
      "model_name": "LayoutModel",
      "state": {
       "_model_module": "@jupyter-widgets/base",
       "_model_module_version": "1.2.0",
       "_model_name": "LayoutModel",
       "_view_count": null,
       "_view_module": "@jupyter-widgets/base",
       "_view_module_version": "1.2.0",
       "_view_name": "LayoutView",
       "align_content": null,
       "align_items": null,
       "align_self": null,
       "border": null,
       "bottom": null,
       "display": null,
       "flex": null,
       "flex_flow": null,
       "grid_area": null,
       "grid_auto_columns": null,
       "grid_auto_flow": null,
       "grid_auto_rows": null,
       "grid_column": null,
       "grid_gap": null,
       "grid_row": null,
       "grid_template_areas": null,
       "grid_template_columns": null,
       "grid_template_rows": null,
       "height": null,
       "justify_content": null,
       "justify_items": null,
       "left": null,
       "margin": null,
       "max_height": null,
       "max_width": null,
       "min_height": null,
       "min_width": null,
       "object_fit": null,
       "object_position": null,
       "order": null,
       "overflow": null,
       "overflow_x": null,
       "overflow_y": null,
       "padding": null,
       "right": null,
       "top": null,
       "visibility": null,
       "width": null
      }
     },
     "7cf6631fad694349acc5773bf0e4053c": {
      "model_module": "@jupyter-widgets/base",
      "model_module_version": "1.2.0",
      "model_name": "LayoutModel",
      "state": {
       "_model_module": "@jupyter-widgets/base",
       "_model_module_version": "1.2.0",
       "_model_name": "LayoutModel",
       "_view_count": null,
       "_view_module": "@jupyter-widgets/base",
       "_view_module_version": "1.2.0",
       "_view_name": "LayoutView",
       "align_content": null,
       "align_items": null,
       "align_self": null,
       "border": null,
       "bottom": null,
       "display": null,
       "flex": null,
       "flex_flow": null,
       "grid_area": null,
       "grid_auto_columns": null,
       "grid_auto_flow": null,
       "grid_auto_rows": null,
       "grid_column": null,
       "grid_gap": null,
       "grid_row": null,
       "grid_template_areas": null,
       "grid_template_columns": null,
       "grid_template_rows": null,
       "height": null,
       "justify_content": null,
       "justify_items": null,
       "left": null,
       "margin": null,
       "max_height": null,
       "max_width": null,
       "min_height": null,
       "min_width": null,
       "object_fit": null,
       "object_position": null,
       "order": null,
       "overflow": null,
       "overflow_x": null,
       "overflow_y": null,
       "padding": null,
       "right": null,
       "top": null,
       "visibility": null,
       "width": null
      }
     },
     "82cc188eee9148b6a6dbcbb0f05fa6f5": {
      "model_module": "@jupyter-widgets/controls",
      "model_module_version": "1.5.0",
      "model_name": "HBoxModel",
      "state": {
       "_dom_classes": [],
       "_model_module": "@jupyter-widgets/controls",
       "_model_module_version": "1.5.0",
       "_model_name": "HBoxModel",
       "_view_count": null,
       "_view_module": "@jupyter-widgets/controls",
       "_view_module_version": "1.5.0",
       "_view_name": "HBoxView",
       "box_style": "",
       "children": [
        "IPY_MODEL_ba15ecd0ada44b98afab4d3819df80b7",
        "IPY_MODEL_ed3fbd082e4c4da1a059ecf773859ded",
        "IPY_MODEL_47141e0fb11e43dd826d65649ddf9eb1"
       ],
       "layout": "IPY_MODEL_23cd08a4c7334308855a5bf2c57e5da0"
      }
     },
     "8548ee1de86c4f2ba575e6c605e7ac46": {
      "model_module": "@jupyter-widgets/base",
      "model_module_version": "1.2.0",
      "model_name": "LayoutModel",
      "state": {
       "_model_module": "@jupyter-widgets/base",
       "_model_module_version": "1.2.0",
       "_model_name": "LayoutModel",
       "_view_count": null,
       "_view_module": "@jupyter-widgets/base",
       "_view_module_version": "1.2.0",
       "_view_name": "LayoutView",
       "align_content": null,
       "align_items": null,
       "align_self": null,
       "border": null,
       "bottom": null,
       "display": null,
       "flex": null,
       "flex_flow": null,
       "grid_area": null,
       "grid_auto_columns": null,
       "grid_auto_flow": null,
       "grid_auto_rows": null,
       "grid_column": null,
       "grid_gap": null,
       "grid_row": null,
       "grid_template_areas": null,
       "grid_template_columns": null,
       "grid_template_rows": null,
       "height": null,
       "justify_content": null,
       "justify_items": null,
       "left": null,
       "margin": null,
       "max_height": null,
       "max_width": null,
       "min_height": null,
       "min_width": null,
       "object_fit": null,
       "object_position": null,
       "order": null,
       "overflow": null,
       "overflow_x": null,
       "overflow_y": null,
       "padding": null,
       "right": null,
       "top": null,
       "visibility": null,
       "width": null
      }
     },
     "a0765f1c344e45cdbf9daf11cd7a5bdf": {
      "model_module": "@jupyter-widgets/controls",
      "model_module_version": "1.5.0",
      "model_name": "HBoxModel",
      "state": {
       "_dom_classes": [],
       "_model_module": "@jupyter-widgets/controls",
       "_model_module_version": "1.5.0",
       "_model_name": "HBoxModel",
       "_view_count": null,
       "_view_module": "@jupyter-widgets/controls",
       "_view_module_version": "1.5.0",
       "_view_name": "HBoxView",
       "box_style": "",
       "children": [
        "IPY_MODEL_000a3c5e827f4050ac9b26d2e1852348",
        "IPY_MODEL_f31f63a76f23433a8d33b478db520867",
        "IPY_MODEL_ca13aaf7eb0a4ac5a18c7366a68060a6"
       ],
       "layout": "IPY_MODEL_acbe013cbcde468e822cf2ccc2d4bd5c"
      }
     },
     "a5be3afcfdc14fca8e36003676dd48a4": {
      "model_module": "@jupyter-widgets/controls",
      "model_module_version": "1.5.0",
      "model_name": "HTMLModel",
      "state": {
       "_dom_classes": [],
       "_model_module": "@jupyter-widgets/controls",
       "_model_module_version": "1.5.0",
       "_model_name": "HTMLModel",
       "_view_count": null,
       "_view_module": "@jupyter-widgets/controls",
       "_view_module_version": "1.5.0",
       "_view_name": "HTMLView",
       "description": "",
       "description_tooltip": null,
       "layout": "IPY_MODEL_8548ee1de86c4f2ba575e6c605e7ac46",
       "placeholder": "​",
       "style": "IPY_MODEL_110199227d054634a6a85f460335e22f",
       "value": " 1/1 [00:00&lt;00:00,  1.50ba/s]"
      }
     },
     "aad7bf32767d491a9215b98870d6a566": {
      "model_module": "@jupyter-widgets/controls",
      "model_module_version": "1.5.0",
      "model_name": "HBoxModel",
      "state": {
       "_dom_classes": [],
       "_model_module": "@jupyter-widgets/controls",
       "_model_module_version": "1.5.0",
       "_model_name": "HBoxModel",
       "_view_count": null,
       "_view_module": "@jupyter-widgets/controls",
       "_view_module_version": "1.5.0",
       "_view_name": "HBoxView",
       "box_style": "",
       "children": [
        "IPY_MODEL_baf3f031f47445719f8125d5430ab3e0",
        "IPY_MODEL_d16f44517f904709ada1e7532857508b",
        "IPY_MODEL_a5be3afcfdc14fca8e36003676dd48a4"
       ],
       "layout": "IPY_MODEL_c2bf803d606040749bb828c19004628c"
      }
     },
     "acbe013cbcde468e822cf2ccc2d4bd5c": {
      "model_module": "@jupyter-widgets/base",
      "model_module_version": "1.2.0",
      "model_name": "LayoutModel",
      "state": {
       "_model_module": "@jupyter-widgets/base",
       "_model_module_version": "1.2.0",
       "_model_name": "LayoutModel",
       "_view_count": null,
       "_view_module": "@jupyter-widgets/base",
       "_view_module_version": "1.2.0",
       "_view_name": "LayoutView",
       "align_content": null,
       "align_items": null,
       "align_self": null,
       "border": null,
       "bottom": null,
       "display": null,
       "flex": null,
       "flex_flow": null,
       "grid_area": null,
       "grid_auto_columns": null,
       "grid_auto_flow": null,
       "grid_auto_rows": null,
       "grid_column": null,
       "grid_gap": null,
       "grid_row": null,
       "grid_template_areas": null,
       "grid_template_columns": null,
       "grid_template_rows": null,
       "height": null,
       "justify_content": null,
       "justify_items": null,
       "left": null,
       "margin": null,
       "max_height": null,
       "max_width": null,
       "min_height": null,
       "min_width": null,
       "object_fit": null,
       "object_position": null,
       "order": null,
       "overflow": null,
       "overflow_x": null,
       "overflow_y": null,
       "padding": null,
       "right": null,
       "top": null,
       "visibility": null,
       "width": null
      }
     },
     "ba15ecd0ada44b98afab4d3819df80b7": {
      "model_module": "@jupyter-widgets/controls",
      "model_module_version": "1.5.0",
      "model_name": "HTMLModel",
      "state": {
       "_dom_classes": [],
       "_model_module": "@jupyter-widgets/controls",
       "_model_module_version": "1.5.0",
       "_model_name": "HTMLModel",
       "_view_count": null,
       "_view_module": "@jupyter-widgets/controls",
       "_view_module_version": "1.5.0",
       "_view_name": "HTMLView",
       "description": "",
       "description_tooltip": null,
       "layout": "IPY_MODEL_3bc5d5c1023846debee1be5440c5cf96",
       "placeholder": "​",
       "style": "IPY_MODEL_de2df71f61f144b887a51cd213360933",
       "value": "Downloading: "
      }
     },
     "baf3f031f47445719f8125d5430ab3e0": {
      "model_module": "@jupyter-widgets/controls",
      "model_module_version": "1.5.0",
      "model_name": "HTMLModel",
      "state": {
       "_dom_classes": [],
       "_model_module": "@jupyter-widgets/controls",
       "_model_module_version": "1.5.0",
       "_model_name": "HTMLModel",
       "_view_count": null,
       "_view_module": "@jupyter-widgets/controls",
       "_view_module_version": "1.5.0",
       "_view_name": "HTMLView",
       "description": "",
       "description_tooltip": null,
       "layout": "IPY_MODEL_3aa3a4f6a99c44379febb10f504615e2",
       "placeholder": "​",
       "style": "IPY_MODEL_c09b60e9a4fa4d7e9c360096fb273b5f",
       "value": "100%"
      }
     },
     "c09b60e9a4fa4d7e9c360096fb273b5f": {
      "model_module": "@jupyter-widgets/controls",
      "model_module_version": "1.5.0",
      "model_name": "DescriptionStyleModel",
      "state": {
       "_model_module": "@jupyter-widgets/controls",
       "_model_module_version": "1.5.0",
       "_model_name": "DescriptionStyleModel",
       "_view_count": null,
       "_view_module": "@jupyter-widgets/base",
       "_view_module_version": "1.2.0",
       "_view_name": "StyleView",
       "description_width": ""
      }
     },
     "c1483e9d726f4363a13d818231f7a406": {
      "model_module": "@jupyter-widgets/controls",
      "model_module_version": "1.5.0",
      "model_name": "ProgressStyleModel",
      "state": {
       "_model_module": "@jupyter-widgets/controls",
       "_model_module_version": "1.5.0",
       "_model_name": "ProgressStyleModel",
       "_view_count": null,
       "_view_module": "@jupyter-widgets/base",
       "_view_module_version": "1.2.0",
       "_view_name": "StyleView",
       "bar_color": null,
       "description_width": ""
      }
     },
     "c21c34471ae14b13b08f147b64a0a504": {
      "model_module": "@jupyter-widgets/controls",
      "model_module_version": "1.5.0",
      "model_name": "DescriptionStyleModel",
      "state": {
       "_model_module": "@jupyter-widgets/controls",
       "_model_module_version": "1.5.0",
       "_model_name": "DescriptionStyleModel",
       "_view_count": null,
       "_view_module": "@jupyter-widgets/base",
       "_view_module_version": "1.2.0",
       "_view_name": "StyleView",
       "description_width": ""
      }
     },
     "c2bf803d606040749bb828c19004628c": {
      "model_module": "@jupyter-widgets/base",
      "model_module_version": "1.2.0",
      "model_name": "LayoutModel",
      "state": {
       "_model_module": "@jupyter-widgets/base",
       "_model_module_version": "1.2.0",
       "_model_name": "LayoutModel",
       "_view_count": null,
       "_view_module": "@jupyter-widgets/base",
       "_view_module_version": "1.2.0",
       "_view_name": "LayoutView",
       "align_content": null,
       "align_items": null,
       "align_self": null,
       "border": null,
       "bottom": null,
       "display": null,
       "flex": null,
       "flex_flow": null,
       "grid_area": null,
       "grid_auto_columns": null,
       "grid_auto_flow": null,
       "grid_auto_rows": null,
       "grid_column": null,
       "grid_gap": null,
       "grid_row": null,
       "grid_template_areas": null,
       "grid_template_columns": null,
       "grid_template_rows": null,
       "height": null,
       "justify_content": null,
       "justify_items": null,
       "left": null,
       "margin": null,
       "max_height": null,
       "max_width": null,
       "min_height": null,
       "min_width": null,
       "object_fit": null,
       "object_position": null,
       "order": null,
       "overflow": null,
       "overflow_x": null,
       "overflow_y": null,
       "padding": null,
       "right": null,
       "top": null,
       "visibility": null,
       "width": null
      }
     },
     "ca13aaf7eb0a4ac5a18c7366a68060a6": {
      "model_module": "@jupyter-widgets/controls",
      "model_module_version": "1.5.0",
      "model_name": "HTMLModel",
      "state": {
       "_dom_classes": [],
       "_model_module": "@jupyter-widgets/controls",
       "_model_module_version": "1.5.0",
       "_model_name": "HTMLModel",
       "_view_count": null,
       "_view_module": "@jupyter-widgets/controls",
       "_view_module_version": "1.5.0",
       "_view_name": "HTMLView",
       "description": "",
       "description_tooltip": null,
       "layout": "IPY_MODEL_4c5df70705c44d54a0633e5995f70b04",
       "placeholder": "​",
       "style": "IPY_MODEL_c21c34471ae14b13b08f147b64a0a504",
       "value": " 4.51k/? [00:00&lt;00:00, 181kB/s]"
      }
     },
     "d16f44517f904709ada1e7532857508b": {
      "model_module": "@jupyter-widgets/controls",
      "model_module_version": "1.5.0",
      "model_name": "FloatProgressModel",
      "state": {
       "_dom_classes": [],
       "_model_module": "@jupyter-widgets/controls",
       "_model_module_version": "1.5.0",
       "_model_name": "FloatProgressModel",
       "_view_count": null,
       "_view_module": "@jupyter-widgets/controls",
       "_view_module_version": "1.5.0",
       "_view_name": "ProgressView",
       "bar_style": "success",
       "description": "",
       "description_tooltip": null,
       "layout": "IPY_MODEL_7cf6631fad694349acc5773bf0e4053c",
       "max": 1.0,
       "min": 0.0,
       "orientation": "horizontal",
       "style": "IPY_MODEL_59ec226a90c5424895d6df104d517388",
       "value": 1.0
      }
     },
     "de2df71f61f144b887a51cd213360933": {
      "model_module": "@jupyter-widgets/controls",
      "model_module_version": "1.5.0",
      "model_name": "DescriptionStyleModel",
      "state": {
       "_model_module": "@jupyter-widgets/controls",
       "_model_module_version": "1.5.0",
       "_model_name": "DescriptionStyleModel",
       "_view_count": null,
       "_view_module": "@jupyter-widgets/base",
       "_view_module_version": "1.2.0",
       "_view_name": "StyleView",
       "description_width": ""
      }
     },
     "ed3fbd082e4c4da1a059ecf773859ded": {
      "model_module": "@jupyter-widgets/controls",
      "model_module_version": "1.5.0",
      "model_name": "FloatProgressModel",
      "state": {
       "_dom_classes": [],
       "_model_module": "@jupyter-widgets/controls",
       "_model_module_version": "1.5.0",
       "_model_name": "FloatProgressModel",
       "_view_count": null,
       "_view_module": "@jupyter-widgets/controls",
       "_view_module_version": "1.5.0",
       "_view_name": "ProgressView",
       "bar_style": "success",
       "description": "",
       "description_tooltip": null,
       "layout": "IPY_MODEL_256c6d7e06204f01bde155c1eda43cca",
       "max": 1119.0,
       "min": 0.0,
       "orientation": "horizontal",
       "style": "IPY_MODEL_c1483e9d726f4363a13d818231f7a406",
       "value": 1119.0
      }
     },
     "f31f63a76f23433a8d33b478db520867": {
      "model_module": "@jupyter-widgets/controls",
      "model_module_version": "1.5.0",
      "model_name": "FloatProgressModel",
      "state": {
       "_dom_classes": [],
       "_model_module": "@jupyter-widgets/controls",
       "_model_module_version": "1.5.0",
       "_model_name": "FloatProgressModel",
       "_view_count": null,
       "_view_module": "@jupyter-widgets/controls",
       "_view_module_version": "1.5.0",
       "_view_name": "ProgressView",
       "bar_style": "success",
       "description": "",
       "description_tooltip": null,
       "layout": "IPY_MODEL_29b8d62892b842a6bbc11c3548cdb882",
       "max": 1726.0,
       "min": 0.0,
       "orientation": "horizontal",
       "style": "IPY_MODEL_f420e5a80aff456fbaff70121d85510a",
       "value": 1726.0
      }
     },
     "f420e5a80aff456fbaff70121d85510a": {
      "model_module": "@jupyter-widgets/controls",
      "model_module_version": "1.5.0",
      "model_name": "ProgressStyleModel",
      "state": {
       "_model_module": "@jupyter-widgets/controls",
       "_model_module_version": "1.5.0",
       "_model_name": "ProgressStyleModel",
       "_view_count": null,
       "_view_module": "@jupyter-widgets/base",
       "_view_module_version": "1.2.0",
       "_view_name": "StyleView",
       "bar_color": null,
       "description_width": ""
      }
     }
    },
    "version_major": 2,
    "version_minor": 0
   }
  }
 },
 "nbformat": 4,
 "nbformat_minor": 5
}
