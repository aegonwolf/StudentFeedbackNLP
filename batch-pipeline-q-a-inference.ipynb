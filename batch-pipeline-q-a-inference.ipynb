{
 "cells": [
  {
   "cell_type": "code",
   "execution_count": 1,
   "id": "c5943221",
   "metadata": {
    "execution": {
     "iopub.execute_input": "2022-03-16T17:19:13.470701Z",
     "iopub.status.busy": "2022-03-16T17:19:13.469215Z",
     "iopub.status.idle": "2022-03-16T17:19:24.183604Z",
     "shell.execute_reply": "2022-03-16T17:19:24.182662Z",
     "shell.execute_reply.started": "2022-03-13T16:32:36.154007Z"
    },
    "papermill": {
     "duration": 10.738153,
     "end_time": "2022-03-16T17:19:24.183766",
     "exception": false,
     "start_time": "2022-03-16T17:19:13.445613",
     "status": "completed"
    },
    "tags": []
   },
   "outputs": [],
   "source": [
    "import os\n",
    "import pandas as pd, numpy as np\n",
    "import matplotlib.pyplot as plt\n",
    "os.environ['TF_CPP_MIN_LOG_LEVEL'] = '3'\n",
    "from transformers import *\n",
    "from datasets import get_dataset_config_names, load_dataset\n",
    "import tqdm.notebook as tqdm\n",
    "# from torch.utils.data import DataLoader"
   ]
  },
  {
   "cell_type": "markdown",
   "id": "d3152463",
   "metadata": {
    "papermill": {
     "duration": 0.017769,
     "end_time": "2022-03-16T17:19:24.221460",
     "exception": false,
     "start_time": "2022-03-16T17:19:24.203691",
     "status": "completed"
    },
    "tags": []
   },
   "source": [
    "# Load Test"
   ]
  },
  {
   "cell_type": "code",
   "execution_count": 2,
   "id": "0ab1aa13",
   "metadata": {
    "execution": {
     "iopub.execute_input": "2022-03-16T17:19:24.264928Z",
     "iopub.status.busy": "2022-03-16T17:19:24.264287Z",
     "iopub.status.idle": "2022-03-16T17:19:24.302355Z",
     "shell.execute_reply": "2022-03-16T17:19:24.302803Z",
     "shell.execute_reply.started": "2022-03-13T16:32:36.164015Z"
    },
    "papermill": {
     "duration": 0.063073,
     "end_time": "2022-03-16T17:19:24.302953",
     "exception": false,
     "start_time": "2022-03-16T17:19:24.239880",
     "status": "completed"
    },
    "tags": []
   },
   "outputs": [
    {
     "data": {
      "text/html": [
       "<div>\n",
       "<style scoped>\n",
       "    .dataframe tbody tr th:only-of-type {\n",
       "        vertical-align: middle;\n",
       "    }\n",
       "\n",
       "    .dataframe tbody tr th {\n",
       "        vertical-align: top;\n",
       "    }\n",
       "\n",
       "    .dataframe thead th {\n",
       "        text-align: right;\n",
       "    }\n",
       "</style>\n",
       "<table border=\"1\" class=\"dataframe\">\n",
       "  <thead>\n",
       "    <tr style=\"text-align: right;\">\n",
       "      <th></th>\n",
       "      <th>id</th>\n",
       "      <th>text</th>\n",
       "    </tr>\n",
       "  </thead>\n",
       "  <tbody>\n",
       "    <tr>\n",
       "      <th>0</th>\n",
       "      <td>0FB0700DAF44</td>\n",
       "      <td>During a group project, have you ever asked a ...</td>\n",
       "    </tr>\n",
       "    <tr>\n",
       "      <th>1</th>\n",
       "      <td>D72CB1C11673</td>\n",
       "      <td>Making choices in life can be very difficult. ...</td>\n",
       "    </tr>\n",
       "    <tr>\n",
       "      <th>2</th>\n",
       "      <td>18409261F5C2</td>\n",
       "      <td>80% of Americans believe seeking multiple opin...</td>\n",
       "    </tr>\n",
       "    <tr>\n",
       "      <th>3</th>\n",
       "      <td>DF920E0A7337</td>\n",
       "      <td>Have you ever asked more than one person for h...</td>\n",
       "    </tr>\n",
       "    <tr>\n",
       "      <th>4</th>\n",
       "      <td>D46BCB48440A</td>\n",
       "      <td>When people ask for advice,they sometimes talk...</td>\n",
       "    </tr>\n",
       "  </tbody>\n",
       "</table>\n",
       "</div>"
      ],
      "text/plain": [
       "             id                                               text\n",
       "0  0FB0700DAF44  During a group project, have you ever asked a ...\n",
       "1  D72CB1C11673  Making choices in life can be very difficult. ...\n",
       "2  18409261F5C2  80% of Americans believe seeking multiple opin...\n",
       "3  DF920E0A7337  Have you ever asked more than one person for h...\n",
       "4  D46BCB48440A  When people ask for advice,they sometimes talk..."
      ]
     },
     "execution_count": 2,
     "metadata": {},
     "output_type": "execute_result"
    }
   ],
   "source": [
    "# https://www.kaggle.com/raghavendrakotala/fine-tunned-on-roberta-base-as-ner-problem-0-533\n",
    "test_names, test = [], []\n",
    "for f in list(os.listdir('../input/feedback-prize-2021/test')):\n",
    "    test_names.append(f.replace('.txt', ''))\n",
    "    test.append(open('../input/feedback-prize-2021/test/' + f, 'r').read())\n",
    "test = pd.DataFrame({'id': test_names, 'text': test})\n",
    "test.head()"
   ]
  },
  {
   "cell_type": "code",
   "execution_count": 3,
   "id": "7e5cac41",
   "metadata": {
    "execution": {
     "iopub.execute_input": "2022-03-16T17:19:24.345389Z",
     "iopub.status.busy": "2022-03-16T17:19:24.344574Z",
     "iopub.status.idle": "2022-03-16T17:19:24.346280Z",
     "shell.execute_reply": "2022-03-16T17:19:24.346799Z",
     "shell.execute_reply.started": "2022-03-13T16:32:36.188438Z"
    },
    "papermill": {
     "duration": 0.02518,
     "end_time": "2022-03-16T17:19:24.346935",
     "exception": false,
     "start_time": "2022-03-16T17:19:24.321755",
     "status": "completed"
    },
    "tags": []
   },
   "outputs": [],
   "source": [
    "test.columns = [\"id\", \"context\"]"
   ]
  },
  {
   "cell_type": "code",
   "execution_count": 4,
   "id": "2d7d9217",
   "metadata": {
    "execution": {
     "iopub.execute_input": "2022-03-16T17:19:24.392523Z",
     "iopub.status.busy": "2022-03-16T17:19:24.391624Z",
     "iopub.status.idle": "2022-03-16T17:19:24.393446Z",
     "shell.execute_reply": "2022-03-16T17:19:24.393862Z",
     "shell.execute_reply.started": "2022-03-13T16:32:36.19582Z"
    },
    "papermill": {
     "duration": 0.028803,
     "end_time": "2022-03-16T17:19:24.394001",
     "exception": false,
     "start_time": "2022-03-16T17:19:24.365198",
     "status": "completed"
    },
    "tags": []
   },
   "outputs": [],
   "source": [
    "labels = ['Lead', 'Position', 'Evidence', 'Claim', 'Concluding Statement',\n",
    "             'Counterclaim', 'Rebuttal']"
   ]
  },
  {
   "cell_type": "code",
   "execution_count": 5,
   "id": "e41bfd98",
   "metadata": {
    "execution": {
     "iopub.execute_input": "2022-03-16T17:19:24.441759Z",
     "iopub.status.busy": "2022-03-16T17:19:24.440843Z",
     "iopub.status.idle": "2022-03-16T17:19:24.442543Z",
     "shell.execute_reply": "2022-03-16T17:19:24.443035Z",
     "shell.execute_reply.started": "2022-03-13T16:32:36.203656Z"
    },
    "papermill": {
     "duration": 0.030079,
     "end_time": "2022-03-16T17:19:24.443175",
     "exception": false,
     "start_time": "2022-03-16T17:19:24.413096",
     "status": "completed"
    },
    "tags": []
   },
   "outputs": [],
   "source": [
    "test['question'] = [labels for row in range(test.shape[0])]"
   ]
  },
  {
   "cell_type": "code",
   "execution_count": 6,
   "id": "6671fe2c",
   "metadata": {
    "execution": {
     "iopub.execute_input": "2022-03-16T17:19:24.496293Z",
     "iopub.status.busy": "2022-03-16T17:19:24.495264Z",
     "iopub.status.idle": "2022-03-16T17:19:24.498821Z",
     "shell.execute_reply": "2022-03-16T17:19:24.498171Z",
     "shell.execute_reply.started": "2022-03-13T16:32:36.212868Z"
    },
    "papermill": {
     "duration": 0.037379,
     "end_time": "2022-03-16T17:19:24.498944",
     "exception": false,
     "start_time": "2022-03-16T17:19:24.461565",
     "status": "completed"
    },
    "tags": []
   },
   "outputs": [],
   "source": [
    "test = test.explode('question')"
   ]
  },
  {
   "cell_type": "code",
   "execution_count": 7,
   "id": "8db54286",
   "metadata": {
    "execution": {
     "iopub.execute_input": "2022-03-16T17:19:24.541780Z",
     "iopub.status.busy": "2022-03-16T17:19:24.541120Z",
     "iopub.status.idle": "2022-03-16T17:19:24.544270Z",
     "shell.execute_reply": "2022-03-16T17:19:24.544847Z",
     "shell.execute_reply.started": "2022-03-13T16:32:36.226067Z"
    },
    "papermill": {
     "duration": 0.027335,
     "end_time": "2022-03-16T17:19:24.545031",
     "exception": false,
     "start_time": "2022-03-16T17:19:24.517696",
     "status": "completed"
    },
    "tags": []
   },
   "outputs": [
    {
     "name": "stdout",
     "output_type": "stream",
     "text": [
      "There are 5 train texts.\n"
     ]
    }
   ],
   "source": [
    "IDS = test.id.unique()\n",
    "print('There are',len(IDS),'train texts.')"
   ]
  },
  {
   "cell_type": "code",
   "execution_count": 8,
   "id": "1f98dd07",
   "metadata": {
    "execution": {
     "iopub.execute_input": "2022-03-16T17:19:24.588745Z",
     "iopub.status.busy": "2022-03-16T17:19:24.588120Z",
     "iopub.status.idle": "2022-03-16T17:19:24.650183Z",
     "shell.execute_reply": "2022-03-16T17:19:24.649678Z",
     "shell.execute_reply.started": "2022-03-13T16:32:36.235238Z"
    },
    "papermill": {
     "duration": 0.085448,
     "end_time": "2022-03-16T17:19:24.650308",
     "exception": false,
     "start_time": "2022-03-16T17:19:24.564860",
     "status": "completed"
    },
    "tags": []
   },
   "outputs": [],
   "source": [
    "#model_ckpt = \"distilbert-base-cased-distilled-squad\"\n",
    "model_checkpoint = \"../input/q-a-pytorch/model.h5\"\n",
    "# model_checkpoint = \"distilbert-base-cased-distilled-squad\"\n",
    "config_model = \"../input/q-a-pytorch/model.h5/config.json\"\n",
    "tokenizer = AutoTokenizer.from_pretrained(model_checkpoint)\n",
    "\n",
    "target_map = {'Lead':0, 'Position':1, 'Evidence':2, 'Claim':3, 'Concluding Statement':4,\n",
    "             'Counterclaim':5, 'Rebuttal':6}"
   ]
  },
  {
   "cell_type": "code",
   "execution_count": 9,
   "id": "46b520cf",
   "metadata": {
    "execution": {
     "iopub.execute_input": "2022-03-16T17:19:24.693088Z",
     "iopub.status.busy": "2022-03-16T17:19:24.692272Z",
     "iopub.status.idle": "2022-03-16T17:19:24.694781Z",
     "shell.execute_reply": "2022-03-16T17:19:24.694303Z",
     "shell.execute_reply.started": "2022-03-13T16:32:36.26412Z"
    },
    "papermill": {
     "duration": 0.025368,
     "end_time": "2022-03-16T17:19:24.694897",
     "exception": false,
     "start_time": "2022-03-16T17:19:24.669529",
     "status": "completed"
    },
    "tags": []
   },
   "outputs": [],
   "source": [
    "# os.mkdir('model')\n",
    "\n",
    "# tokenizer = AutoTokenizer.from_pretrained(model_checkpoint, add_prefix_space=True)\n",
    "# tokenizer.save_pretrained('model')\n",
    "\n",
    "# #     config_model = AutoConfig.from_pretrained(model_checkpoint) \n",
    "# #     config_model.num_labels = 15\n",
    "# #     config_model.save_pretrained('model')\n",
    "\n",
    "# backbone = AutoModelForQuestionAnswering.from_pretrained(model_checkpoint)\n",
    "# backbone.save_pretrained('model')"
   ]
  },
  {
   "cell_type": "code",
   "execution_count": 10,
   "id": "b6ccaee4",
   "metadata": {
    "execution": {
     "iopub.execute_input": "2022-03-16T17:19:24.738154Z",
     "iopub.status.busy": "2022-03-16T17:19:24.737303Z",
     "iopub.status.idle": "2022-03-16T17:19:24.739300Z",
     "shell.execute_reply": "2022-03-16T17:19:24.739722Z",
     "shell.execute_reply.started": "2022-03-13T16:32:36.271181Z"
    },
    "papermill": {
     "duration": 0.026171,
     "end_time": "2022-03-16T17:19:24.739869",
     "exception": false,
     "start_time": "2022-03-16T17:19:24.713698",
     "status": "completed"
    },
    "tags": []
   },
   "outputs": [],
   "source": [
    "max_length = tokenizer.model_max_length\n",
    "stride = 64"
   ]
  },
  {
   "cell_type": "code",
   "execution_count": 11,
   "id": "609423b2",
   "metadata": {
    "execution": {
     "iopub.execute_input": "2022-03-16T17:19:24.784858Z",
     "iopub.status.busy": "2022-03-16T17:19:24.784145Z",
     "iopub.status.idle": "2022-03-16T17:19:24.787468Z",
     "shell.execute_reply": "2022-03-16T17:19:24.786922Z",
     "shell.execute_reply.started": "2022-03-13T16:32:36.27754Z"
    },
    "papermill": {
     "duration": 0.028783,
     "end_time": "2022-03-16T17:19:24.787590",
     "exception": false,
     "start_time": "2022-03-16T17:19:24.758807",
     "status": "completed"
    },
    "tags": []
   },
   "outputs": [],
   "source": [
    "def preprocess_validation_examples(examples):\n",
    "    #strip removes leading and trailing whitespaces\n",
    "    questions = [q.strip() for q in examples[\"question\"]]\n",
    "    inputs = tokenizer(\n",
    "        questions,\n",
    "        examples[\"context\"],\n",
    "        max_length=max_length,\n",
    "        truncation=\"only_second\",\n",
    "        stride=stride,\n",
    "        return_overflowing_tokens=True,\n",
    "        return_offsets_mapping=True,\n",
    "        padding=\"max_length\",\n",
    "    )\n",
    "\n",
    "    sample_map = inputs.pop(\"overflow_to_sample_mapping\")\n",
    "    offset_mapping = inputs.pop(\"offset_mapping\")\n",
    "    example_ids = []\n",
    "\n",
    "    for i in range(len(inputs[\"input_ids\"])):\n",
    "        sample_idx = sample_map[i]\n",
    "        example_ids.append(examples[\"id\"][sample_idx])\n",
    "\n",
    "        sequence_ids = inputs.sequence_ids(i)\n",
    "#         offset = inputs[\"offset_mapping\"][i]\n",
    "#         inputs[\"offset_mapping\"][i] = [\n",
    "#             o if sequence_ids[k] == 1 else None for k, o in enumerate(offset)\n",
    "#         ]\n",
    "\n",
    "    inputs[\"example_id\"] = example_ids\n",
    "    \n",
    "    return inputs"
   ]
  },
  {
   "cell_type": "code",
   "execution_count": 12,
   "id": "c2f895ba",
   "metadata": {
    "execution": {
     "iopub.execute_input": "2022-03-16T17:19:24.829993Z",
     "iopub.status.busy": "2022-03-16T17:19:24.829472Z",
     "iopub.status.idle": "2022-03-16T17:19:24.848508Z",
     "shell.execute_reply": "2022-03-16T17:19:24.848027Z",
     "shell.execute_reply.started": "2022-03-13T16:32:36.287982Z"
    },
    "papermill": {
     "duration": 0.042304,
     "end_time": "2022-03-16T17:19:24.848632",
     "exception": false,
     "start_time": "2022-03-16T17:19:24.806328",
     "status": "completed"
    },
    "tags": []
   },
   "outputs": [],
   "source": [
    "from datasets import Dataset\n",
    "dataset = Dataset.from_pandas(test)"
   ]
  },
  {
   "cell_type": "code",
   "execution_count": 13,
   "id": "ec9caa62",
   "metadata": {
    "execution": {
     "iopub.execute_input": "2022-03-16T17:19:24.889766Z",
     "iopub.status.busy": "2022-03-16T17:19:24.888976Z",
     "iopub.status.idle": "2022-03-16T17:19:24.894161Z",
     "shell.execute_reply": "2022-03-16T17:19:24.894616Z",
     "shell.execute_reply.started": "2022-03-13T16:32:36.406336Z"
    },
    "papermill": {
     "duration": 0.026985,
     "end_time": "2022-03-16T17:19:24.894757",
     "exception": false,
     "start_time": "2022-03-16T17:19:24.867772",
     "status": "completed"
    },
    "tags": []
   },
   "outputs": [
    {
     "data": {
      "text/plain": [
       "['id', 'context', 'question', '__index_level_0__']"
      ]
     },
     "execution_count": 13,
     "metadata": {},
     "output_type": "execute_result"
    }
   ],
   "source": [
    "dataset.column_names"
   ]
  },
  {
   "cell_type": "markdown",
   "id": "beace8f4",
   "metadata": {
    "papermill": {
     "duration": 0.018891,
     "end_time": "2022-03-16T17:19:24.932523",
     "exception": false,
     "start_time": "2022-03-16T17:19:24.913632",
     "status": "completed"
    },
    "tags": []
   },
   "source": [
    "# Build Model\n",
    "We will use LongFormer backbone and add our own NER head using one hidden layer of size 256 and one final layer with softmax. We use 15 classes because we have a `B` class and `I` class for each of 7 labels. And we have an additional class (called `O` class) for tokens that do not belong to one of the 14 classes."
   ]
  },
  {
   "cell_type": "code",
   "execution_count": 14,
   "id": "967cce44",
   "metadata": {
    "execution": {
     "iopub.execute_input": "2022-03-16T17:19:25.013744Z",
     "iopub.status.busy": "2022-03-16T17:19:25.013007Z",
     "iopub.status.idle": "2022-03-16T17:19:25.016242Z",
     "shell.execute_reply": "2022-03-16T17:19:25.015441Z",
     "shell.execute_reply.started": "2022-03-13T16:32:36.414407Z"
    },
    "papermill": {
     "duration": 0.064731,
     "end_time": "2022-03-16T17:19:25.016396",
     "exception": false,
     "start_time": "2022-03-16T17:19:24.951665",
     "status": "completed"
    },
    "tags": []
   },
   "outputs": [],
   "source": [
    "import torch\n",
    "from transformers import AutoModelForQuestionAnswering\n",
    "\n",
    "device = torch.device(\"cuda\") if torch.cuda.is_available() else torch.device(\"cpu\")"
   ]
  },
  {
   "cell_type": "code",
   "execution_count": 15,
   "id": "d7a3ae60",
   "metadata": {
    "execution": {
     "iopub.execute_input": "2022-03-16T17:19:25.058689Z",
     "iopub.status.busy": "2022-03-16T17:19:25.057210Z",
     "iopub.status.idle": "2022-03-16T17:19:30.424056Z",
     "shell.execute_reply": "2022-03-16T17:19:30.424556Z",
     "shell.execute_reply.started": "2022-03-13T16:32:36.422349Z"
    },
    "papermill": {
     "duration": 5.388936,
     "end_time": "2022-03-16T17:19:30.424718",
     "exception": false,
     "start_time": "2022-03-16T17:19:25.035782",
     "status": "completed"
    },
    "tags": []
   },
   "outputs": [],
   "source": [
    "model = AutoModelForQuestionAnswering.from_pretrained(model_checkpoint)"
   ]
  },
  {
   "cell_type": "code",
   "execution_count": 16,
   "id": "04b21099",
   "metadata": {
    "execution": {
     "iopub.execute_input": "2022-03-16T17:19:30.468378Z",
     "iopub.status.busy": "2022-03-16T17:19:30.467559Z",
     "iopub.status.idle": "2022-03-16T17:19:30.469275Z",
     "shell.execute_reply": "2022-03-16T17:19:30.469738Z",
     "shell.execute_reply.started": "2022-03-13T16:32:38.349181Z"
    },
    "papermill": {
     "duration": 0.025153,
     "end_time": "2022-03-16T17:19:30.469870",
     "exception": false,
     "start_time": "2022-03-16T17:19:30.444717",
     "status": "completed"
    },
    "tags": []
   },
   "outputs": [],
   "source": [
    "# test_set"
   ]
  },
  {
   "cell_type": "code",
   "execution_count": 17,
   "id": "a7fe960a",
   "metadata": {
    "execution": {
     "iopub.execute_input": "2022-03-16T17:19:30.513398Z",
     "iopub.status.busy": "2022-03-16T17:19:30.512562Z",
     "iopub.status.idle": "2022-03-16T17:19:30.514313Z",
     "shell.execute_reply": "2022-03-16T17:19:30.514848Z",
     "shell.execute_reply.started": "2022-03-13T16:32:38.354853Z"
    },
    "papermill": {
     "duration": 0.02619,
     "end_time": "2022-03-16T17:19:30.515014",
     "exception": false,
     "start_time": "2022-03-16T17:19:30.488824",
     "status": "completed"
    },
    "tags": []
   },
   "outputs": [],
   "source": [
    "pipe = QuestionAnsweringPipeline(model=model, tokenizer=tokenizer)"
   ]
  },
  {
   "cell_type": "code",
   "execution_count": 18,
   "id": "3b19e012",
   "metadata": {
    "execution": {
     "iopub.execute_input": "2022-03-16T17:19:30.559455Z",
     "iopub.status.busy": "2022-03-16T17:19:30.558611Z",
     "iopub.status.idle": "2022-03-16T17:19:30.560374Z",
     "shell.execute_reply": "2022-03-16T17:19:30.560863Z",
     "shell.execute_reply.started": "2022-03-13T16:32:38.374982Z"
    },
    "papermill": {
     "duration": 0.02691,
     "end_time": "2022-03-16T17:19:30.560998",
     "exception": false,
     "start_time": "2022-03-16T17:19:30.534088",
     "status": "completed"
    },
    "tags": []
   },
   "outputs": [],
   "source": [
    "def preprocess(question, context, text_id):\n",
    "    inputs = tokenizer(\n",
    "        question,\n",
    "        context,\n",
    "        max_length=max_length,\n",
    "        truncation=\"only_second\",\n",
    "        stride=stride,\n",
    "        return_overflowing_tokens=True,\n",
    "        return_offsets_mapping=True,\n",
    "        padding=\"max_length\",\n",
    "        return_tensors = 'pt'\n",
    "    )\n",
    "\n",
    "    sample_map = inputs.pop(\"overflow_to_sample_mapping\")\n",
    "    offset_mapping = inputs.pop(\"offset_mapping\")\n",
    "#     example_ids = []\n",
    "\n",
    "#     for i in range(len(inputs[\"input_ids\"])):\n",
    "#         sample_idx = sample_map[i]\n",
    "#         example_ids.append(text_id)\n",
    "#         sequence_ids = inputs.sequence_ids(i)\n",
    "\n",
    "#     inputs[\"example_id\"] = example_ids\n",
    "    \n",
    "    return inputs, offset_mapping"
   ]
  },
  {
   "cell_type": "code",
   "execution_count": 19,
   "id": "9ef4d9ac",
   "metadata": {
    "execution": {
     "iopub.execute_input": "2022-03-16T17:19:30.619832Z",
     "iopub.status.busy": "2022-03-16T17:19:30.612770Z",
     "iopub.status.idle": "2022-03-16T17:19:30.622222Z",
     "shell.execute_reply": "2022-03-16T17:19:30.621801Z",
     "shell.execute_reply.started": "2022-03-13T16:32:38.383353Z"
    },
    "papermill": {
     "duration": 0.041995,
     "end_time": "2022-03-16T17:19:30.622363",
     "exception": false,
     "start_time": "2022-03-16T17:19:30.580368",
     "status": "completed"
    },
    "tags": []
   },
   "outputs": [],
   "source": [
    "def get_predictions(outputs, inputs, offsets, context):\n",
    "    start_logits = outputs.start_logits\n",
    "    end_logits = outputs.end_logits\n",
    "    #print(start_logits.shape, end_logits.shape)\n",
    "    sequence_ids = inputs.sequence_ids()\n",
    "    # Mask everything apart from the tokens of the context\n",
    "    mask = [i != 1 for i in sequence_ids]\n",
    "    # Unmask the [CLS] token\n",
    "    mask[0] = False\n",
    "    # Mask all the [PAD] tokens\n",
    "    mask = torch.logical_or(torch.tensor(mask)[None], (inputs[\"attention_mask\"] == 0))\n",
    "\n",
    "    start_logits[mask] = -10000\n",
    "    end_logits[mask] = -10000\n",
    "    start_probabilities = torch.nn.functional.softmax(start_logits, dim=-1)\n",
    "    end_probabilities = torch.nn.functional.softmax(end_logits, dim=-1)\n",
    "    \n",
    "    candidates = []\n",
    "    for start_probs, end_probs in zip(start_probabilities, end_probabilities):\n",
    "        scores = start_probs[:, None] * end_probs[None, :]\n",
    "        idx = torch.triu(scores).argmax().item()\n",
    "\n",
    "        start_idx = idx // scores.shape[0]\n",
    "        end_idx = idx % scores.shape[0]\n",
    "        score = scores[start_idx, end_idx].item()\n",
    "        candidates.append((start_idx, end_idx, score))\n",
    "\n",
    "    #print(candidates)\n",
    "    results = []\n",
    "    for candidate, offset in zip(candidates, offsets):\n",
    "        start_token, end_token, score = candidate\n",
    "        start_char, _ = offset[start_token]\n",
    "        _, end_char = offset[end_token]\n",
    "        answer = context[start_char:end_char]\n",
    "        result = {\"answer\": answer, \"start\": start_char, \"end\": end_char, \"score\": score}\n",
    "        results.append(result)\n",
    "    return results"
   ]
  },
  {
   "cell_type": "code",
   "execution_count": 20,
   "id": "6ec5db0b",
   "metadata": {
    "execution": {
     "iopub.execute_input": "2022-03-16T17:19:30.668792Z",
     "iopub.status.busy": "2022-03-16T17:19:30.667794Z",
     "iopub.status.idle": "2022-03-16T17:19:30.669641Z",
     "shell.execute_reply": "2022-03-16T17:19:30.670186Z",
     "shell.execute_reply.started": "2022-03-13T16:32:38.396587Z"
    },
    "papermill": {
     "duration": 0.028661,
     "end_time": "2022-03-16T17:19:30.670344",
     "exception": false,
     "start_time": "2022-03-16T17:19:30.641683",
     "status": "completed"
    },
    "tags": []
   },
   "outputs": [],
   "source": [
    "def get_predictionstring(result):\n",
    "    pred = result['answer']\n",
    "    if len(pred) == 0:\n",
    "        return \"\"\n",
    "    start = result['start']\n",
    "    end = result['end']\n",
    "    score = result['score']\n",
    "    start_index = len(context[:start].split())\n",
    "    end_index = start_index + len(pred.split())\n",
    "    predictionstring = \"\"\n",
    "    for i in range(start_index, end_index):\n",
    "        predictionstring += str(i) + \" \"\n",
    "    return predictionstring"
   ]
  },
  {
   "cell_type": "code",
   "execution_count": 21,
   "id": "2ac5494e",
   "metadata": {
    "execution": {
     "iopub.execute_input": "2022-03-16T17:19:30.717758Z",
     "iopub.status.busy": "2022-03-16T17:19:30.716867Z",
     "iopub.status.idle": "2022-03-16T17:19:30.718636Z",
     "shell.execute_reply": "2022-03-16T17:19:30.719166Z",
     "shell.execute_reply.started": "2022-03-13T16:32:38.407832Z"
    },
    "papermill": {
     "duration": 0.02781,
     "end_time": "2022-03-16T17:19:30.719310",
     "exception": false,
     "start_time": "2022-03-16T17:19:30.691500",
     "status": "completed"
    },
    "tags": []
   },
   "outputs": [],
   "source": [
    "test['predictionstring'] = \"\""
   ]
  },
  {
   "cell_type": "code",
   "execution_count": 22,
   "id": "1e7245ee",
   "metadata": {
    "execution": {
     "iopub.execute_input": "2022-03-16T17:19:30.764252Z",
     "iopub.status.busy": "2022-03-16T17:19:30.763413Z",
     "iopub.status.idle": "2022-03-16T17:19:30.768160Z",
     "shell.execute_reply": "2022-03-16T17:19:30.767656Z",
     "shell.execute_reply.started": "2022-03-13T16:32:38.417026Z"
    },
    "papermill": {
     "duration": 0.028282,
     "end_time": "2022-03-16T17:19:30.768295",
     "exception": false,
     "start_time": "2022-03-16T17:19:30.740013",
     "status": "completed"
    },
    "tags": []
   },
   "outputs": [],
   "source": [
    "predictions_dict = {}\n",
    "predictions_dict['id'] = []\n",
    "predictions_dict['class'] = []\n",
    "predictions_dict['predictionstring'] = []"
   ]
  },
  {
   "cell_type": "code",
   "execution_count": 23,
   "id": "cd069e22",
   "metadata": {
    "execution": {
     "iopub.execute_input": "2022-03-16T17:19:30.823247Z",
     "iopub.status.busy": "2022-03-16T17:19:30.822391Z",
     "iopub.status.idle": "2022-03-16T17:20:07.668154Z",
     "shell.execute_reply": "2022-03-16T17:20:07.667448Z"
    },
    "papermill": {
     "duration": 36.879392,
     "end_time": "2022-03-16T17:20:07.668403",
     "exception": false,
     "start_time": "2022-03-16T17:19:30.789011",
     "status": "completed"
    },
    "tags": []
   },
   "outputs": [
    {
     "name": "stderr",
     "output_type": "stream",
     "text": [
      "/opt/conda/lib/python3.7/site-packages/numpy/core/_asarray.py:83: VisibleDeprecationWarning: Creating an ndarray from ragged nested sequences (which is a list-or-tuple of lists-or-tuples-or ndarrays with different lengths or shapes) is deprecated. If you meant to do this, you must specify 'dtype=object' when creating the ndarray\n",
      "  return array(a, dtype, copy=False, order=order)\n"
     ]
    }
   ],
   "source": [
    "for item in dataset:\n",
    "    question = item['question']\n",
    "    text_id = item['id']\n",
    "    context = item['context']\n",
    "#     inputs, offset_mapping = preprocess(question, context, text_id)\n",
    "#     outputs = model(**inputs)\n",
    "#     results_model = get_predictions(outputs, inputs, offset_mapping, context)\n",
    "    with torch.no_grad():\n",
    "        results = pipe(question = question, context = context, top_k = 2, max_seq_len = max_length, max_answer_len = max_length)\n",
    "    for result in results:\n",
    "        predictionstring = get_predictionstring(result)\n",
    "        if len(predictionstring) == 0:\n",
    "            continue\n",
    "        predictions_dict['id'].append(text_id)\n",
    "        predictions_dict['class'].append(question)\n",
    "        predictions_dict['predictionstring'].append(predictionstring)\n",
    "#         counter += 1\n",
    "#         if counter > 3:\n",
    "#             break\n",
    "            "
   ]
  },
  {
   "cell_type": "code",
   "execution_count": 24,
   "id": "62325ce2",
   "metadata": {
    "execution": {
     "iopub.execute_input": "2022-03-16T17:20:07.719445Z",
     "iopub.status.busy": "2022-03-16T17:20:07.718378Z",
     "iopub.status.idle": "2022-03-16T17:20:07.720300Z",
     "shell.execute_reply": "2022-03-16T17:20:07.720826Z",
     "shell.execute_reply.started": "2022-03-13T16:33:16.122644Z"
    },
    "papermill": {
     "duration": 0.02899,
     "end_time": "2022-03-16T17:20:07.720969",
     "exception": false,
     "start_time": "2022-03-16T17:20:07.691979",
     "status": "completed"
    },
    "tags": []
   },
   "outputs": [],
   "source": [
    "sub = pd.DataFrame.from_dict(predictions_dict)"
   ]
  },
  {
   "cell_type": "code",
   "execution_count": 25,
   "id": "3af6fb3b",
   "metadata": {
    "execution": {
     "iopub.execute_input": "2022-03-16T17:20:07.768861Z",
     "iopub.status.busy": "2022-03-16T17:20:07.768048Z",
     "iopub.status.idle": "2022-03-16T17:20:07.775510Z",
     "shell.execute_reply": "2022-03-16T17:20:07.774938Z",
     "shell.execute_reply.started": "2022-03-13T16:33:16.129768Z"
    },
    "papermill": {
     "duration": 0.033712,
     "end_time": "2022-03-16T17:20:07.775655",
     "exception": false,
     "start_time": "2022-03-16T17:20:07.741943",
     "status": "completed"
    },
    "tags": []
   },
   "outputs": [],
   "source": [
    "sub.to_csv(\"submission.csv\", index = False)"
   ]
  }
 ],
 "metadata": {
  "kernelspec": {
   "display_name": "Python 3",
   "language": "python",
   "name": "python3"
  },
  "language_info": {
   "codemirror_mode": {
    "name": "ipython",
    "version": 3
   },
   "file_extension": ".py",
   "mimetype": "text/x-python",
   "name": "python",
   "nbconvert_exporter": "python",
   "pygments_lexer": "ipython3",
   "version": "3.7.12"
  },
  "papermill": {
   "default_parameters": {},
   "duration": 65.452253,
   "end_time": "2022-03-16T17:20:10.525754",
   "environment_variables": {},
   "exception": null,
   "input_path": "__notebook__.ipynb",
   "output_path": "__notebook__.ipynb",
   "parameters": {},
   "start_time": "2022-03-16T17:19:05.073501",
   "version": "2.3.3"
  }
 },
 "nbformat": 4,
 "nbformat_minor": 5
}
